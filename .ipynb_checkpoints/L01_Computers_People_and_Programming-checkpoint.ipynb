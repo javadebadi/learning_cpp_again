{
 "cells": [
  {
   "cell_type": "markdown",
   "metadata": {},
   "source": [
    "# Computers, People and Programming\n",
    "<strong>Software</strong> is a collection of programs running on some computer. Sometimes, we can see the computer."
   ]
  },
  {
   "cell_type": "markdown",
   "metadata": {},
   "source": [
    "On a short list of highly desirable skills for a programmer (however you realistically define programmer), you find the ability to communicate well — with people from a wide variety of backgrounds — informally, in meetings, in writing, and in formal presentations. We are convinced that until you have completed a team project or two, you have no idea of what programming is and whether you really like it.<br>\n",
    "A disregard for users’ preferences — however odd and archaic they may seem to you — typically leads to the users choosing some other product. An essential part of writing a good program is to understand the needs of the users and the constraints that those needs place on the implementation (i.e., the code). To complete this caricature of a bad programmer, we just have to add a tendency to deliver late because of an obsession with details and an excessive confidence in the correctness of lightly tested code. We encourage you to become a good programmer, with a broad view of what it takes to produce good software."
   ]
  },
  {
   "cell_type": "markdown",
   "metadata": {},
   "source": [
    "## Computer Science\n",
    "Consider computer science. A 1995 U.S. government “blue book” defines it like this: “The systematic study of computing systems and computation. The\n",
    "body of knowledge resulting from this discipline contains theories for understanding computing systems and methods; design methodology, algorithms,\n",
    "and tools; methods for the testing of concepts; methods of analysis and verification; and knowledge representation and implementation.”"
   ]
  },
  {
   "cell_type": "markdown",
   "metadata": {},
   "source": [
    "## Programming\n",
    "\n",
    "We can describe the process of developing a program as having four stages:\n",
    "\n",
    "• Analysis: What’s the problem? What does the user want? What does the user need? What can the user afford? What kind of reliability do we need?\n",
    "\n",
    "• Design: How do we solve the problem? What should be the overall structure of the system? Which parts does it consist of? How do those parts communicate with each other? How does the system communicate with its users?\n",
    "\n",
    "• Programming: Express the solution to the problem (the design) in code. Write the code in a way that meets all constraints (time, space, money, reliability, and so on). Make sure that the code is correct and maintainable.\n",
    "\n",
    "• Testing: Make sure the system works correctly under all circumstances required by systematically trying it out.\n",
    "\n",
    "Programming plus testing is often called implementation. The crucial concept here is feedback. We learn from experience and modify our behavior based on what we learn. That’s essential for effective software development. For any large project, we don’t know everything there is to know about the problem and its solution before we start. We can try out ideas and get feedback by programming, but in the earlier stages of development it is easier\n",
    "(and faster) to get feedback by writing down design ideas, trying out those design ideas, and using scenarios on friends. The best design tool we know of is a blackboard (use a whiteboard instead if you prefer chemical smells over chalk dust). Never design alone if you can avoid it! Don’t start coding before you have tried out your ideas by explaining them to someone. Discuss designs and programming techniques with friends, colleagues, potential users, and so on before you head for the keyboard. It is amazing how much you can learn from simply trying to\n",
    "articulate an idea. After all, a program is nothing more than an expression (incode) of some ideas.\n",
    "\n",
    "Programming is part practical, part theoretical. If you are just practical, you will produce non-scalable,    unmaintainable hacks. If you are just theoretical,you will produce unusable (or unaffordable) toys.\n",
    "\n"
   ]
  }
 ],
 "metadata": {
  "kernelspec": {
   "display_name": "ROOT C++",
   "language": "c++",
   "name": "root"
  },
  "language_info": {
   "codemirror_mode": "text/x-c++src",
   "file_extension": ".C",
   "mimetype": " text/x-c++src",
   "name": "c++"
  }
 },
 "nbformat": 4,
 "nbformat_minor": 2
}
