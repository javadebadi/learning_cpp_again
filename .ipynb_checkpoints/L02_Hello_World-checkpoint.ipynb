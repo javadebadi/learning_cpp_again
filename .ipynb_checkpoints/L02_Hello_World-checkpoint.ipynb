{
 "cells": [
  {
   "cell_type": "markdown",
   "metadata": {},
   "source": [
    "# Hello World!"
   ]
  },
  {
   "cell_type": "code",
   "execution_count": 2,
   "metadata": {},
   "outputs": [],
   "source": [
    "#include <iostream>\n",
    "#include <string>\n",
    "#include <vector>\n",
    "#include <algorithm>\n",
    "#include \"math.h\"\n",
    "\n",
    "using namespace std;"
   ]
  },
  {
   "cell_type": "code",
   "execution_count": 3,
   "metadata": {},
   "outputs": [],
   "source": [
    "inline void keep_window_open() { char ch; cin>>ch; }"
   ]
  },
  {
   "cell_type": "code",
   "execution_count": 5,
   "metadata": {},
   "outputs": [
    {
     "name": "stderr",
     "output_type": "stream",
     "text": [
      "\u001b[1minput_line_36:3:5: \u001b[0m\u001b[0;1;31merror: \u001b[0m\u001b[1mredefinition of 'main'\u001b[0m\n",
      "int main(){\n",
      "\u001b[0;1;32m    ^\n",
      "\u001b[0m\u001b[1minput_line_34:3:5: \u001b[0m\u001b[0;1;30mnote: \u001b[0mprevious definition is here\u001b[0m\n",
      "int main(){\n",
      "\u001b[0;1;32m    ^\n",
      "\u001b[0m"
     ]
    }
   ],
   "source": [
    "// this program outputs the message \"Hello World!\n",
    "\n",
    "int main(){\n",
    "    \n",
    "    cout<<\"Hello World!\\n\";\n",
    "    keep_window_open();\n",
    "    return 0;\n",
    "}\n",
    "main()"
   ]
  },
  {
   "cell_type": "markdown",
   "metadata": {},
   "source": [
    "<ul>\n",
    "    <li>cursor</li>\n",
    "    <li>special character</li>\n",
    "    <li>cout is pronounced “see-out” and is an abbreviation of “ c haracter out put stream.”<\\li>\n",
    "    <li>A program is written for two audiences: Humans and machines</li>\n",
    "    <li>What is a 'header file'?</li>\n",
    "    <li>How does a computer know where to start executing a program? It looks for a function called main and starts executing the instructions it finds there</li>\n",
    "        <li>reserved word in C++ (a keyword)</li>\n",
    "        <li>Since main() is called by “the system,” we won’t use that return value. However, on some systems (notably Unix/Linux) it can be used to check whether the program succeeded. A zero ( 0 ) returned by main() indicates that the program terminated successfully. </li>\n",
    "    <li>A part of a C++ program that specifies an action and isn’t an #include directive (or some other preprocessor directive) is called a statement.</li> \n",
    "<ul>\n"
   ]
  },
  {
   "cell_type": "markdown",
   "metadata": {},
   "source": [
    "## Compiling\n",
    "\n",
    "<ul>\n",
    "    <li>source code: what human read and writes [suffix: .cpp or .h]</li>\n",
    "    <li>executable (machine code or object code): what computer executes [suffix: .obj(Windows) .o(Unix)]</li>\n",
    "    <li>compiler: a program that translates (complies) the source code to executable</li>\n",
    "</ul>\n",
    "<strong>The word <i>code</i> is ambiguoes.When we say code, usually we mean \"source code\"</strong>\n",
    "<br>\n",
    "So,please remember: the compiler is your friend; possibly, the compiler is the best friend you have when you program.\n",
    "<br>\n",
    "<img src=\"./images/complie.png\">"
   ]
  },
  {
   "cell_type": "markdown",
   "metadata": {},
   "source": [
    "## Linking\n",
    "<strong>linker</strong>: a program that links object codes from different source codes together\n",
    "<img src=\"./images/link.png\">\n",
    "<strong>library</strong>: a code that we can access using declaration found in an ```#include```d file.\n",
    "\n",
    "<ul>\n",
    "    <li>compile-time errors</li>\n",
    "    <li>link-time errors</li>\n",
    "    <li>run-time errors</li>\n",
    "    <li>logic errors</li>\n",
    "</ul>"
   ]
  },
  {
   "cell_type": "markdown",
   "metadata": {},
   "source": [
    "## Programming environments"
   ]
  },
  {
   "cell_type": "markdown",
   "metadata": {},
   "source": [
    "<strong>IDE</strong>: “interactive development environment” or “integrated development environment”\n",
    "<br>\n",
    "IDE does a lot of things like compiling, linking, etc all together and helps us to write and debug our code efficiently."
   ]
  }
 ],
 "metadata": {
  "kernelspec": {
   "display_name": "ROOT C++",
   "language": "c++",
   "name": "root"
  },
  "language_info": {
   "codemirror_mode": "text/x-c++src",
   "file_extension": ".C",
   "mimetype": " text/x-c++src",
   "name": "c++"
  }
 },
 "nbformat": 4,
 "nbformat_minor": 2
}
