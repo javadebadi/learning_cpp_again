{
 "cells": [
  {
   "cell_type": "markdown",
   "metadata": {},
   "source": [
    "# Objects, Types, and Values"
   ]
  },
  {
   "cell_type": "markdown",
   "metadata": {},
   "source": [
    "## Input\n",
    "\n",
    "An object is a region of memory with a type that specifies what kind of information can be placed in it. A named object is called a variable.\n",
    "<img src=\"./images/object.png\" style=\"width:500px\">\n",
    "<strong>prompt</strong>: When your code prints a message that asks (prompt) a user to take an action.\n",
    "<br>\n",
    "A statement that introduces a new name into a program and sets aside memory for a variable is called a <b>definition</b>.\n",
    "<br>\n",
    "For ```cin``` operator the newline character (pressing Enter) is necessary to end the input taking process."
   ]
  },
  {
   "cell_type": "markdown",
   "metadata": {},
   "source": [
    "## Variable"
   ]
  },
  {
   "cell_type": "markdown",
   "metadata": {},
   "source": [
    "To access an object we need a <strong>name</strong>. A named object is called a <strong>variable</strong> and has a specific <strong>type</strong> that determines what can be put into the object  and which operations can be applied. The data items we put into variables are called <strong>values</strong>.\n",
    "<br>\n",
    "The reason for the name <strong>double</strong> is historical: double is short for “double precision floating point.” Floating points the computer’s approximation to the mathematical concept of a real number.\n",
    "<br>\n",
    "<strong>char</strong>: in single quote 'A'\n",
    "<br>\n",
    "<strong>string</strong>: in double quotes \"A\""
   ]
  },
  {
   "cell_type": "markdown",
   "metadata": {},
   "source": [
    "## Input and type"
   ]
  },
  {
   "cell_type": "markdown",
   "metadata": {},
   "source": [
    "<strong>Whitespace</strong>: ```\\t```, ```\\n``` and ``` ``` are called whitespaces.\n",
    "<br>\n",
    "In ```C++```, ```>>``` reads characters to string type until it reaches to whitespace.\n",
    "<br>\n",
    "<strong>Garbage value</strong>: a value that is in a part of memory before you associate a value to that part."
   ]
  },
  {
   "cell_type": "code",
   "execution_count": null,
   "metadata": {},
   "outputs": [],
   "source": [
    "// read name and age (2nd version)\n",
    "int main_1()\n",
    "{\n",
    "    cout << \"Please enter your first name and age\\n\";\n",
    "    \n",
    "    string first_name=\"???\";\n",
    "    // string variable\n",
    "    // (\"???” means “don’t know the name”)\n",
    "    int age = -1;\n",
    "    // integer variable (– 1 means “don’t know the age”)\n",
    "    cin >> first_name >> age; // read a string followed by an integer\n",
    "    cout << \"Hello, \" << first_name << \" (age \" << age << \")\\n\";\n",
    "    return 0;\n",
    "\n",
    "}\n",
    "main_1()"
   ]
  },
  {
   "cell_type": "markdown",
   "metadata": {},
   "source": [
    "## Operations and operators\n",
    "<img src=\"./images/common_operators.png\" style=\"width:500px;\">\n",
    "<img src=\"./images/common_operators_2.png\" style=\"width:500px;\">"
   ]
  },
  {
   "cell_type": "code",
   "execution_count": null,
   "metadata": {},
   "outputs": [],
   "source": [
    "// concatinate string using + operator\n",
    "\n",
    "int main_2(){\n",
    "    string fname = \"Javad\";\n",
    "    string lname = \"Ebadi\";\n",
    "    string name = fname+\" \"+lname;\n",
    "    cout<<\"The person's name is:     \"<<name<<\"\\n\";\n",
    "    return 0;\n",
    "}\n",
    "main_2();"
   ]
  },
  {
   "cell_type": "code",
   "execution_count": 1,
   "metadata": {},
   "outputs": [
    {
     "name": "stdout",
     "output_type": "stream",
     "text": [
      "Adam < Eve\n",
      "(int) 0\n"
     ]
    }
   ],
   "source": [
    "// comparison of strings\n",
    "// string s1 is smaller than s2, if s1 is alphabetically before s2\n",
    "int main_3(){\n",
    "    bool compr = true;\n",
    "    string name_1 = \"Adam\";\n",
    "    string name_2 = \"Eve\";\n",
    "    compr = name_1 <= name_2;\n",
    "    if(compr){\n",
    "        cout<<name_1<<\" < \"<<name_2<<\"\\n\";\n",
    "    }\n",
    "    return 0;\n",
    "}\n",
    "main_3()"
   ]
  },
  {
   "cell_type": "markdown",
   "metadata": {},
   "source": [
    "## Assignment and initialization\n",
    "• Initialization (giving a variable its initial value)<br>\n",
    "• Assignment (giving a variable a new value)<br>\n",
    "Logically assignment and initialization are different, but in ```C++``` they  are very similar for basic types.<br>\n",
    "Assignment is the process of giving a vairable a new value. In ```C++``` the assignment operator is denoted by ```=```. Note that this is not equality operator.\n",
    "<strong>Q:</strong> What happens when expression ```int b = a + 7 ``` is executed?\n",
    "<br>\n",
    "```\n",
    "string current;\n",
    "while (cin>>current){\n",
    "    ....\n",
    "}\n",
    "\n",
    "```\n",
    "The above loop has a ```while (cin>>current)``` which could be terminated by giving the program an <strong>end-of-input</strong> character (usually referred to as <strong>end of file</strong>). In Windows it Ctrl+Z with an Enter, in Unix it is Ctrl+D.\n",
    "\n",
    "Look at the repeated_word.cpp in \"./Ch03\" directory and run it."
   ]
  },
  {
   "cell_type": "markdown",
   "metadata": {},
   "source": [
    "### Programming techniques\n",
    "\n",
    "1- When we need to solve a problem, we look for a similar problem and use our solution for that with suitable modification. Don’t start from scratch unless you really have to. Using a previous version of a program as a base for modification often saves a lot of time, and we benefit from much of the effort that went into the original program.\n",
    "\n",
    "2- Learning to ask the right (often hard) questions is an essential part of learning to think as a programmer. Asking only the easy and obvious questions would make you feel good, but it wouldn’t help make you a programmer.\n",
    "\n",
    "3- The fastest way to understand real-world code is through a good understanding of the fundamentals.\n",
    "\n",
    "4- Always initialize your variables!\n",
    "\n",
    "5- The first rule for the use of parentheses is simply “If in doubt, parenthesize,” but please do learn enough about expressions so that you are not in doubt about a*b+c/d . Overuse of parentheses, as in (a*b)+(c/d) , decreases readability.\n",
    "\n",
    "6- Constants make code more readeble. For example, if in code you use some constant named \"pi\", then it is easy to understand than using \"3.14\" instead of \"pi\" in you code. In addition, it will be easy to update the value of \"pi\" without changing the whole code where \"pi\" is used. So never use literal in you code directly. Use constants with descriptive names which have values you want.\n",
    "\n",
    "7- We must always test our programs with “bad” input, because someone will eventually — intentionally or accidentally — enter bad input. A program should behave sensibly even if its users don’t."
   ]
  },
  {
   "cell_type": "markdown",
   "metadata": {},
   "source": [
    "## Names\n",
    "In ```C++``` names must start with letter, and they can only contain letters, numbers and underscores.<br>\n",
    "\n",
    "1- Never use ```_``` (underscore) as first letter of a name in ```C++```, because that kind of names of reserved for system codes and they can cause problems.\n",
    "\n",
    "2- It is usually not a good idea to define names that differ only in the case of a\n",
    "character, such as one and One ; that will not confuse a compiler, but it can easily\n",
    "confuse a programmer.\n",
    "\n",
    "3- When you choose names for your variables, functions, types, etc., choose meaningful names; that is, choose names that will help people understand your program.\n",
    "\n",
    "4- Don’t use overly long names; they are hard to type, make lines so long that they don’t fit on a screen, and are hard to read quickly.\n",
    "\n",
    "5- Never use names with all capital letters, they are reserved for macros.\n",
    "\n",
    "6- In ```C++``` standard library types are not started with capital letters, therefore we use identifier started with capital letters for user defined types such as ```Graph``` or ```Book```\n",
    "\n",
    "7- Avoid names that are easy to mistype, misread, or confuse. For example:\n",
    "foo\n",
    "f1\n",
    "f00\n",
    "fI\n",
    "fl\n",
    "fi\n",
    "The characters 0 (zero), o (lowercase O), O (uppercase o), 1 (one), I (uppercase i),\n",
    "and l (lowercase L) are particularly prone to cause trouble."
   ]
  },
  {
   "cell_type": "markdown",
   "metadata": {},
   "source": [
    "### Errors\n",
    "\n",
    "When you forget to add main function in you code: <i>undefined reference to `main'</i><br>\n",
    "When you use a name which is not declared: <i>use of undeclared identifier ...</i> <br>\n",
    "When you use a type which is not defined: <i>unknown type name ...</i> <br>\n",
    "When you use a C++ keyword as the identifier for something: <i>expected unqualified-id</i><br>"
   ]
  },
  {
   "cell_type": "markdown",
   "metadata": {},
   "source": [
    "## Types and Objects\n",
    "<ul>\n",
    "    <li>A type defines a set of possible values and a set of operations (for an object).</li>\n",
    "    <li>An object is some memory that holds a value of a given type.</li>\n",
    "    <li>A value is a set of bits in memory interpreted according to a type.</li>\n",
    "    <li>A variable is a named object.</li>\n",
    "    <li>A declaration is a statement that gives a name to an object.</li>\n",
    "    <li>A definition is a declaration that sets aside memory for an object.</li>\n",
    "</ul>\n",
    "A bit is a unit of computer memory that can hold the value 0 or 1."
   ]
  },
  {
   "cell_type": "markdown",
   "metadata": {},
   "source": [
    "## Type Safety\n",
    "A program — or a part of a program — is type-safe when objects are used only according to the rules for their\n",
    "type.\n",
    "Complete type safety is the ideal and therefore the general rule for the language. Unfortunately, a C++ compiler cannot guarantee complete type safety, but we can avoid type safety violations through a combination of good coding\n",
    "practice and run-time checks. The ideal is never to use language features that the compiler cannot prove to be safe: static type safety. Unfortunately, that’s too restrictive for most interesting uses of programming.\n",
    "\n",
    "### Safe conversion\n",
    "When needed, a ```char``` is converted to an ```int``` and an ```int``` is converted to a ```double``` .<br>\n",
    "list of safe conversions:\n",
    "<ul>\n",
    "    <li> bool to char</li>\n",
    "    <li> bool to int</li>\n",
    "    <li> bool to double</li>\n",
    "    <li>char to int</li>\n",
    "    <li>char to double```</li>\n",
    "    <li>int to double```</li>\n",
    "</ul>"
   ]
  },
  {
   "cell_type": "markdown",
   "metadata": {},
   "source": [
    "### Unsafe Conversion\n",
    "<ul>\n",
    "    <li> char to bool</li>\n",
    "    <li> int to bool</li>\n",
    "    <li> double to bool</li>\n",
    "    <li>double to char</li>\n",
    "    <li>double to int</li>\n",
    "    <li>int to char</li>\n",
    "</ul>\n",
    "These kind of conversions are called narrowing. for example int is bigger than char in memory, so its conversion to char means narrowing."
   ]
  },
  {
   "cell_type": "code",
   "execution_count": 1,
   "metadata": {},
   "outputs": [
    {
     "name": "stdout",
     "output_type": "stream",
     "text": [
      "double a = 5.9 ==> a = 5.9\n",
      "int i    = a   ==> i = 5\n",
      "double b = i   ==> b = 5\n"
     ]
    }
   ],
   "source": [
    "// an example of unsafe type conversion\n",
    "int main_4(){\n",
    "    double a = 5.9;\n",
    "    int i = a;\n",
    "    double b = i;\n",
    "    cout<<\"double a = 5.9 ==> a = \"<<a<<endl\n",
    "        <<\"int i    = a   ==> i = \"<<i<<endl\n",
    "        <<\"double b = i   ==> b = \"<<b<<endl;\n",
    "    return 0;\n",
    "}\n",
    "main_4();\n",
    "// we see that b is not equal to a, but we expected to be."
   ]
  },
  {
   "cell_type": "code",
   "execution_count": 1,
   "metadata": {},
   "outputs": [
    {
     "name": "stderr",
     "output_type": "stream",
     "text": [
      "\u001b[1minput_line_27:4:11: \u001b[0m\u001b[0;1;31merror: \u001b[0m\u001b[1mtype 'double' cannot be narrowed to 'int' in initializer list\n",
      "      [-Wc++11-narrowing]\u001b[0m\n",
      "    int i{a};\n",
      "\u001b[0;1;32m          ^\n",
      "\u001b[0m\u001b[1minput_line_27:4:11: \u001b[0m\u001b[0;1;30mnote: \u001b[0minsert an explicit cast to silence this issue\u001b[0m\n",
      "    int i{a};\n",
      "\u001b[0;1;32m          ^\n",
      "\u001b[0m\u001b[0;32m          static_cast<int>( )\n",
      "\u001b[0m\u001b[1minput_line_27:5:14: \u001b[0m\u001b[0;1;31merror: \u001b[0m\u001b[1mnon-constant-expression cannot be narrowed from type 'int' to 'double' in\n",
      "      initializer list [-Wc++11-narrowing]\u001b[0m\n",
      "    double b{i};\n",
      "\u001b[0;1;32m             ^\n",
      "\u001b[0m\u001b[1minput_line_27:5:14: \u001b[0m\u001b[0;1;30mnote: \u001b[0minsert an explicit cast to silence this issue\u001b[0m\n",
      "    double b{i};\n",
      "\u001b[0;1;32m             ^\n",
      "\u001b[0m\u001b[0;32m             static_cast<double>( )\n",
      "\u001b[0m"
     ]
    }
   ],
   "source": [
    "// In c++11 we can avoid this unsafe type conversion\n",
    "int main_5(){\n",
    "    double a{5.9};\n",
    "    int i{a};\n",
    "    double b{i};\n",
    "    cout<<\"double a = 5.9 ==> a = \"<<a<<endl\n",
    "        <<\"int i    = a   ==> i = \"<<i<<endl\n",
    "        <<\"double b = i   ==> b = \"<<b<<endl;\n",
    "    return 0;\n",
    "}\n",
    "main_5();\n",
    "// we see that b is not equal to a, but we expected to be."
   ]
  },
  {
   "cell_type": "markdown",
   "metadata": {},
   "source": [
    "So what should you do if you think that a conversion might lead to a bad value? Use {} initializers to avoid accidents, and when you want a conversion.\n",
    "<br>\n",
    "The {} -list-based notation is known as <strong>universal and uniform initialization</strong>."
   ]
  },
  {
   "cell_type": "code",
   "execution_count": null,
   "metadata": {},
   "outputs": [],
   "source": []
  }
 ],
 "metadata": {
  "kernelspec": {
   "display_name": "ROOT C++",
   "language": "c++",
   "name": "root"
  },
  "language_info": {
   "codemirror_mode": "text/x-c++src",
   "file_extension": ".C",
   "mimetype": " text/x-c++src",
   "name": "c++"
  }
 },
 "nbformat": 4,
 "nbformat_minor": 2
}
