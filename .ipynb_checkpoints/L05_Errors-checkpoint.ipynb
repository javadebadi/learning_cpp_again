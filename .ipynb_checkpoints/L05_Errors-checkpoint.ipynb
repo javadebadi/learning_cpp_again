{
 "cells": [
  {
   "cell_type": "markdown",
   "metadata": {},
   "source": [
    "# Errors"
   ]
  },
  {
   "cell_type": "markdown",
   "metadata": {},
   "source": [
    "## Introduction\n",
    "\n",
    "Unless we specifically say otherwise, we will\n",
    "assume that your program\n",
    "<ol>\n",
    "    <li>Should produce the desired results for all legal inputs</li>\n",
    "    <li>Should give reasonable error messages for all illegal inputs</li>\n",
    "    <li>Need not worry about misbehaving hardware</li>\n",
    "    <li>Need not worry about misbehaving system software</li>\n",
    "    <li>Is allowed to terminate after finding an error</li>\n",
    "</ol>\n",
    "Essentially all programs for which assumptions 3, 4, or 5 do not hold can be considered advanced and beyond the scope of this book.\n",
    "\n",
    "We offer three approaches to producing acceptable software:<br>\n",
    "• Organize software to minimize errors.<br>\n",
    "• Eliminate most of the errors we made through debugging and testing.<br>\n",
    "• Make sure the remaining errors are not serious.<br>\n",
    "None of these approaches can completely eliminate errors by itself; we have to\n",
    "use all three."
   ]
  },
  {
   "cell_type": "markdown",
   "metadata": {},
   "source": [
    "## Sources of errors\n",
    "\n",
    "1- Poor specification\n",
    "2- Incomplete programs\n",
    "3- Unexpected arguments\n",
    "4- Unexpected inputs\n",
    "5- Unexpected states\n",
    "6- Logical errors"
   ]
  },
  {
   "cell_type": "markdown",
   "metadata": {},
   "source": [
    "## Compile-time errors\n",
    "compile-time errors are usually errors which are happened because of mistyping ...\n",
    "### Syntax errors\n",
    "Errors which do exist because of C++ grammar. Syntax errors are usually hard to understand, because compiler needs to read more to be sure that there is an error. So, for syntax errors, if you don’t see anything wrong with the line the compiler points to, also look at previous lines in the program.\n",
    "\n",
    "``` int x=8``` semicolon does not exist => syntax error<br>\n",
    "``` int b = (7;``` missing paranthesis  => syntax error<br>\n",
    "### Type errors\n",
    "After syntax errors, compiler will report mismatches between the types you declared (or forgot to declare) for your variables, functions, etc. and the types of values or expressions you assign to them, pass as function arguments, etc."
   ]
  },
  {
   "cell_type": "code",
   "execution_count": 1,
   "metadata": {},
   "outputs": [],
   "source": [
    "int area(int l, int w){\n",
    "    return l*w;\n",
    "}"
   ]
  },
  {
   "cell_type": "code",
   "execution_count": 2,
   "metadata": {},
   "outputs": [
    {
     "name": "stderr",
     "output_type": "stream",
     "text": [
      "\u001b[1minput_line_33:4:1: \u001b[0m\u001b[0;1;31merror: \u001b[0m\u001b[1mno matching function for call to 'area'\u001b[0m\n",
      "area(\"1\");\n",
      "\u001b[0;1;32m^~~~\n",
      "\u001b[0m\u001b[1minput_line_28:1:5: \u001b[0m\u001b[0;1;30mnote: \u001b[0mcandidate function not viable: requires 2 arguments, but 1 was provided\u001b[0m\n",
      "int area(int l, int w){\n",
      "\u001b[0;1;32m    ^\n",
      "\u001b[0m\u001b[1minput_line_33:5:1: \u001b[0m\u001b[0;1;31merror: \u001b[0m\u001b[1mno matching function for call to 'area'\u001b[0m\n",
      "area(1);\n",
      "\u001b[0;1;32m^~~~\n",
      "\u001b[0m\u001b[1minput_line_28:1:5: \u001b[0m\u001b[0;1;30mnote: \u001b[0mcandidate function not viable: requires 2 arguments, but 1 was provided\u001b[0m\n",
      "int area(int l, int w){\n",
      "\u001b[0;1;32m    ^\n",
      "\u001b[0m\u001b[1minput_line_33:6:1: \u001b[0m\u001b[0;1;31merror: \u001b[0m\u001b[1mno matching function for call to 'area'\u001b[0m\n",
      "area(\"1\",\"2\");\n",
      "\u001b[0;1;32m^~~~\n",
      "\u001b[0m\u001b[1minput_line_28:1:5: \u001b[0m\u001b[0;1;30mnote: \u001b[0mcandidate function not viable: no known conversion from 'const char [2]' to 'int' for 1st argument\u001b[0m\n",
      "int area(int l, int w){\n",
      "\u001b[0;1;32m    ^\n",
      "\u001b[0m\u001b[1minput_line_33:7:1: \u001b[0m\u001b[0;1;31merror: \u001b[0m\u001b[1mno matching function for call to 'area'\u001b[0m\n",
      "area(1,\"2\");\n",
      "\u001b[0;1;32m^~~~\n",
      "\u001b[0m\u001b[1minput_line_28:1:5: \u001b[0m\u001b[0;1;30mnote: \u001b[0mcandidate function not viable: no known conversion from 'const char [2]' to 'int' for 2nd argument\u001b[0m\n",
      "int area(int l, int w){\n",
      "\u001b[0;1;32m    ^\n",
      "\u001b[0m"
     ]
    }
   ],
   "source": [
    "area(1,2);\n",
    "are(\"1\");\n",
    "area(\"1\");\n",
    "area(1);\n",
    "area(\"1\",\"2\");\n",
    "area(1,\"2\");"
   ]
  },
  {
   "cell_type": "markdown",
   "metadata": {},
   "source": [
    "## Link-time errors\n",
    "\n",
    "When there are many codes and we want to link them together in one executable, these points must be noticed:<br>\n",
    "1- There should be just one defintion in all files.<br>\n",
    "2- There could be as many as needed declaration of functions (or variables) in all files, but they all should agree on type of the function and its arguments.<br>\n",
    "3- A function which is declared has to be defined somewhere.\n",
    "\n",
    "A program consists of several separately compiled parts, called translation units. Every function in a program must be declared with exactly the same type in every translation unit in which it is used. We use header files to ensure that. Every function must also be defined exactly once in a program. If either of these rules is violated, the linker will give an error.\n",
    "\n",
    "``` c++\n",
    "int area(int length, int width);\n",
    "// calculate area of a rectangle\n",
    "int main()\n",
    "{\n",
    "    int x = area(2,3);\n",
    "}\n",
    "```\n",
    "Unless we somehow have defined ```area()``` in another source file and linked the code generated from that source file to this code, the linker will complain that it didn’t find a definition of ```area()``` ."
   ]
  },
  {
   "cell_type": "markdown",
   "metadata": {},
   "source": [
    "## Run-time errors\n",
    "Devision by 0 leads to a hardware-detected error that terminates the program with some cryptic message relating to hardware.\n",
    "\n",
    "There are two ways to handle run-time errors:\n",
    "### The caller deals with errors\n",
    "This approach is messy. You tell in main porgram what should not be passed to function and try to avoid error.\n",
    "### The callee deals with errors\n",
    "This approach is usually better, but sometimes wee need to write a code such that the caller deals with errors. The reasons for this are:\n",
    "\n",
    "1- We can’t modify the function defi nition: The function is in a library ...\n",
    "\n",
    "2- The called function doesn’t know what to do in case of error: library writes knows about error, but he or she doesn't know how you want to respond to error.\n",
    "\n",
    "3- The called function doesn’t know where it was called from: sometimes you need more specific error messages\n",
    "\n",
    "4- Performance: speed of the code when it is runnig\n",
    "\n",
    "### Error reporting\n",
    "Once you have checked a set of arguments and found an error, what should you do? Sometimes you can return an\n",
    "“error value.” For example:\n",
    "``` c++\n",
    "char ask_user(string question)\n",
    "{\n",
    "    cout << question << \"? (yes or no)\\n\";\n",
    "    string answer = \" \";\n",
    "    cin >> answer;\n",
    "    if (answer ==\"y\" || answer==\"yes\") return 'y';\n",
    "    if (answer ==\"n\" || answer==\"no\") return 'n';\n",
    "    return 'b';// ‘b’ for “bad answer”\n",
    "}\n",
    "```\n",
    "But this approach is not always good for several reasons:\n",
    "<ul>\n",
    "    <li>Now both the called function and all callers must test.</li>\n",
    "    <li>A caller can forget to test.</li>\n",
    "    <li>Many functions do not have an “extra” return value that they can use to indicate an error.</li>\n",
    "</ul>\n",
    "\n",
    "The better way to handle this problem is to use <strong>exception</strong>"
   ]
  },
  {
   "cell_type": "markdown",
   "metadata": {},
   "source": [
    "## Exception\n",
    "Exception is the best method for error handling.<br>\n",
    "The fundamental idea is to separate <strong>detection of an error</strong> (which should be done in a called function) from the <strong>handling of an error</strong>(which should be done in the calling function) while ensuring that a detected error cannot be <strong>ignored</strong>.\n",
    "\n",
    "### Bad arguments\n",
    "remains****************\n",
    "### Range errors\n",
    "In the context of C++, we often refer to “collections of data” as <strong>containers</strong>.<br>\n",
    "``` c++\n",
    "vector<int> v(5);\n",
    "int x = v[5];\n",
    "```\n",
    "<strong>off-by-one error</strong> a <strong>range error</strong>: the index (subscript) isn't in the range required by the ```vector``` , and a <strong>bounds error</strong> because the index is not within the limits (bounds) of\n",
    "the vector.\n",
    "\n",
    "### Bad input\n",
    "During the early stages of development, we often want to indicate that we have found an error but aren’t yet ready to do anything particularly clever about it; we just want to report the error and terminate the program. Later, maybe, we’ll come back and do something more appropriate.\n",
    "\n",
    "remains********\n",
    "\n",
    "### Narrowing errors\n",
    "remains *****"
   ]
  },
  {
   "cell_type": "markdown",
   "metadata": {},
   "source": [
    "## Logic errors\n",
    "Logic errors are usually the most difficult to find and eliminate, because at this stage the computer does what you asked it to."
   ]
  },
  {
   "cell_type": "markdown",
   "metadata": {},
   "source": [
    "## Estimation \n",
    "\n",
    "Always ask yourself this question:\n",
    "    1. Is this answer to this particular problem plausible?\n",
    "You should also ask the more general (and often far harder) question:\n",
    "    2. How would I recognize a plausible result?\n",
    "Here, we are not asking, “What’s the exact answer?” or “What’s the correct answer?” That’s what we are writing the program to tell us."
   ]
  },
  {
   "cell_type": "markdown",
   "metadata": {},
   "source": [
    "## Debugging\n",
    "\n",
    "The errors in a code are called <strong>bug</strong>s and the process of removing errors is called <strong>debugging</strong>.\n",
    "\n",
    "### Practical debug advice\n",
    "Start thinking about debugging before you write the first line of code. Once you have a lot of code written it’s too late to try to simplify debugging.<br>\n",
    "Decide how to report errors: “Use error() and catch exception in main() ” will be your default answer in this book.<br>\n",
    "Make the program easy to read so that you have a chance of spotting the bugs:<br>\n",
    "• Comment your code well. say in the comments — as clearly and briefl y as you can — what can’t be said clearly in code:<br>\n",
    "    • The name of the program<br>\n",
    "    • The purpose of the program<br>\n",
    "    • Who wrote this code and whenv\n",
    "    •Version numbers<br>\n",
    "    •What complicated code fragments are supposed to do<br>\n",
    "    •What the general design ideas are<br>\n",
    "    •How the source code is organized<br>\n",
    "    •What assumptions are made about inputs<br>\n",
    "    •What parts of the code are still missing and what cases are still not handled<br>\n",
    "• Use meaningful names.<br>\n",
    "    • That doesn’t simply mean “Use long names.”<br>\n",
    "    • Use a consistent layout of code.<br>\n",
    "• Your IDE tries to help, but it can’t do everything and you are the\n",
    "one responsible.<br>\n",
    "• Break code into small functions, each expressing a logical action.<br>\n",
    "    • Try to avoid functions longer than a page or two; most functions will be much shorter.<br>\n",
    "• Avoid complicated code sequences.<br>\n",
    "    • Try to avoid nested loops, nested if -statements, complicated conditions, etc. Unfortunately, you sometimes need those, but remember that complicated code is where bugs can most easily hide.<br>\n",
    "• Use library facilities rather than your own code when you can.\n",
    "    • A library is likely to be better thought out and better tested than what you could produce as an alternative while busily solving your main problem.<br>\n",
    "    \n",
    "1- Often, when you don’t see the problem, the reason is that you “see” what you expect to see rather than what you wrote.\n",
    "\n",
    "2- Often when you do not see the problem, the reason is that there is too much code being executed between the point where the program pro-\n",
    "duced the last good output and the next output (or lack of output).(Use ```cerr``` or ```cout``` to output results in these cases).\n",
    "\n",
    "3- Insert statements that check invariants\n",
    "\n",
    "4- if you can’t fi nd a bug, you are almost certainly looking in the wrong place.\n",
    "\n",
    "A statement that states (asserts) an invariant is called an assertion (or just an assert)."
   ]
  },
  {
   "cell_type": "markdown",
   "metadata": {},
   "source": [
    "## Pre- and post-conditions\n",
    "\n",
    "A requirement of a function upon its argument is often called a <strong>pre-condition</strong>: it must be true for the function to perform its action correctly.\n",
    "If the pre-condition is violated we encounter with two choices:\n",
    "<ol>\n",
    "    <li>igonre it assmuing that all callers will give correct arguments</li>\n",
    "    <li>check it and report error</li>\n",
    "</ol>\n",
    "\n",
    "Always document pre-conditions in comments (so that a caller can see what a function expects).\n",
    "\n",
    "“Let a function check its pre-conditions.” We should do that whenever we don’t see a reason not to. The reasons most often given for not checking pre-conditions are:<br>\n",
    "• Nobody would give bad arguments (Not a case in real world).<br>\n",
    "• It would slow down my code (premature optimization).<br>\n",
    "• It is too complicated to check(This reason is a serious one).<br>\n",
    "\n",
    "pre-conditions helps in avoiding design errors as well as catching usage errors early.\n",
    "\n",
    "### Post-conditions\n",
    "\n",
    "checking the return value of a funtion is called <strong>post-condition</strong> checking."
   ]
  },
  {
   "cell_type": "markdown",
   "metadata": {},
   "source": [
    "## Testing\n",
    "\n",
    "In additon to debugging we need a systematica way to search for errors which is called <strong>testing</strong>. Testing is executing a program with a large and systematically selected set of inputs and comparing the results to what was expected. A run with a given set of inputs is called a <strong>test case</strong>."
   ]
  },
  {
   "cell_type": "markdown",
   "metadata": {},
   "source": [
    "## Drill"
   ]
  },
  {
   "cell_type": "code",
   "execution_count": 1,
   "metadata": {},
   "outputs": [
    {
     "name": "stderr",
     "output_type": "stream",
     "text": [
      "\u001b[1minput_line_29:2:3: \u001b[0m\u001b[0;1;31merror: \u001b[0m\u001b[1muse of undeclared identifier 'Cout'\u001b[0m\n",
      " (Cout << \" Success!\\n \")\n",
      "\u001b[0;1;32m  ^\n",
      "\u001b[0mError in <HandleInterpreterException>: Error evaluating expression (Cout << \" Success!\\n \").\n",
      "Execution of your code was aborted.\n"
     ]
    }
   ],
   "source": [
    "Cout << \" Success!\\n \" ;"
   ]
  },
  {
   "cell_type": "code",
   "execution_count": 2,
   "metadata": {},
   "outputs": [
    {
     "name": "stderr",
     "output_type": "stream",
     "text": [
      "\u001b[1minput_line_34:2:10: \u001b[0m\u001b[0;1;35mwarning: \u001b[0m\u001b[1mmissing terminating '\"' character [-Winvalid-pp-token]\u001b[0m\n",
      " cout << \" Success!\\n;\n",
      "\u001b[0;1;32m         ^\n",
      "\u001b[0m\u001b[1minput_line_34:2:10: \u001b[0m\u001b[0;1;31merror: \u001b[0m\u001b[1mexpected expression\u001b[0m\n"
     ]
    }
   ],
   "source": [
    "cout << \" Success!\\n;"
   ]
  },
  {
   "cell_type": "code",
   "execution_count": 3,
   "metadata": {},
   "outputs": [
    {
     "name": "stderr",
     "output_type": "stream",
     "text": [
      "Unbalanced braces. This cell was not processed.\n"
     ]
    }
   ],
   "source": [
    "cout << \" Success \" << !\\n \""
   ]
  },
  {
   "cell_type": "code",
   "execution_count": 4,
   "metadata": {},
   "outputs": [
    {
     "name": "stderr",
     "output_type": "stream",
     "text": [
      "\u001b[1minput_line_37:2:41: \u001b[0m\u001b[0;1;31merror: \u001b[0m\u001b[1muse of undeclared identifier 'success'\u001b[0m\n",
      " (((*(std::ostream*)0x7f4ae011c460)) << success << '\\n')\n",
      "\u001b[0;1;32m                                        ^\n",
      "\u001b[0mError in <HandleInterpreterException>: Error evaluating expression (((*(std::ostream*)0x7f4ae011c460)) << success << '\\n').\n",
      "Execution of your code was aborted.\n"
     ]
    }
   ],
   "source": [
    "cout << success << '\\n';"
   ]
  },
  {
   "cell_type": "code",
   "execution_count": 5,
   "metadata": {},
   "outputs": [
    {
     "name": "stderr",
     "output_type": "stream",
     "text": [
      "\u001b[1minput_line_38:2:9: \u001b[0m\u001b[0;1;31merror: \u001b[0m\u001b[1mno viable conversion from 'int' to 'std::__cxx11::string' (aka\n",
      "      'basic_string<char>')\u001b[0m\n",
      " string res = 7; \n",
      "\u001b[0;1;32m        ^     ~\n",
      "\u001b[0m\u001b[1m/usr/include/c++/5/bits/basic_string.h:398:7: \u001b[0m\u001b[0;1;30mnote: \u001b[0mcandidate constructor not viable: no known conversion from 'int' to 'const\n",
      "      std::__cxx11::basic_string<char> &' for 1st argument\u001b[0m\n",
      "      basic_string(const basic_string& __str)\n",
      "\u001b[0;1;32m      ^\n",
      "\u001b[0m\u001b[1m/usr/include/c++/5/bits/basic_string.h:455:7: \u001b[0m\u001b[0;1;30mnote: \u001b[0mcandidate constructor not viable: no known conversion from 'int' to\n",
      "      'const char *' for 1st argument\u001b[0m\n",
      "      basic_string(const _CharT* __s, const _Alloc& __a = _Alloc())\n",
      "\u001b[0;1;32m      ^\n",
      "\u001b[0m\u001b[1m/usr/include/c++/5/bits/basic_string.h:477:7: \u001b[0m\u001b[0;1;30mnote: \u001b[0mcandidate constructor not viable: no known conversion from 'int' to\n",
      "      'std::__cxx11::basic_string<char> &&' for 1st argument\u001b[0m\n",
      "      basic_string(basic_string&& __str) noexcept\n",
      "\u001b[0;1;32m      ^\n",
      "\u001b[0m\u001b[1m/usr/include/c++/5/bits/basic_string.h:504:7: \u001b[0m\u001b[0;1;30mnote: \u001b[0mcandidate constructor not viable: no known conversion from 'int' to\n",
      "      'initializer_list<char>' for 1st argument\u001b[0m\n",
      "      basic_string(initializer_list<_CharT> __l, const _Alloc& __a = _Alloc())\n",
      "\u001b[0;1;32m      ^\n",
      "\u001b[0m"
     ]
    }
   ],
   "source": [
    "string res = 7; \n",
    "vector<int> v(10); \n",
    "v[5] = res; \n",
    "cout << \" Success!\\n \" ;"
   ]
  },
  {
   "cell_type": "code",
   "execution_count": 6,
   "metadata": {},
   "outputs": [
    {
     "name": "stderr",
     "output_type": "stream",
     "text": [
      "\u001b[1minput_line_39:3:1: \u001b[0m\u001b[0;1;31merror: \u001b[0m\u001b[1mtype 'vector<int>' does not provide a call operator\u001b[0m\n",
      "v(5) = 7; \n",
      "\u001b[0;1;32m^\n",
      "\u001b[0m\u001b[1minput_line_39:4:5: \u001b[0m\u001b[0;1;31merror: \u001b[0m\u001b[1mtype 'vector<int>' does not provide a call operator\u001b[0m\n",
      "if (v(5)!=7) cout << \" Success!\\n \" ;\n",
      "\u001b[0;1;32m    ^\n",
      "\u001b[0m"
     ]
    }
   ],
   "source": [
    "vector<int> v(10);\n",
    "v(5) = 7; \n",
    "if (v(5)!=7) cout << \" Success!\\n \" ;"
   ]
  },
  {
   "cell_type": "code",
   "execution_count": 7,
   "metadata": {},
   "outputs": [
    {
     "name": "stderr",
     "output_type": "stream",
     "text": [
      "\u001b[1minput_line_41:2:3: \u001b[0m\u001b[0;1;31merror: \u001b[0m\u001b[1muse of undeclared identifier 'cond'\u001b[0m\n",
      " (cond)\n",
      "\u001b[0;1;32m  ^\n",
      "\u001b[0mError in <HandleInterpreterException>: Error evaluating expression (cond).\n",
      "Execution of your code was aborted.\n"
     ]
    }
   ],
   "source": [
    "if (cond) cout << \" Success!\\n \" ; \n",
    "else cout << \" Fail!\\n \" ;"
   ]
  },
  {
   "cell_type": "code",
   "execution_count": 8,
   "metadata": {},
   "outputs": [
    {
     "name": "stdout",
     "output_type": "stream",
     "text": [
      " Fail!\n",
      " "
     ]
    }
   ],
   "source": [
    "bool c = false; \n",
    "if (c) cout << \" Success!\\n \" ; \n",
    "else cout << \" Fail!\\n \" ;\n",
    "// this code has a logical error"
   ]
  },
  {
   "cell_type": "code",
   "execution_count": 9,
   "metadata": {},
   "outputs": [
    {
     "name": "stderr",
     "output_type": "stream",
     "text": [
      "\u001b[1minput_line_43:3:4: \u001b[0m\u001b[0;1;31merror: \u001b[0m\u001b[1mexpected ';' after expression\u001b[0m\n",
      "boo c = \" fool \" < s; \n",
      "\u001b[0;1;32m   ^\n",
      "\u001b[0m\u001b[0;32m   ;\n",
      "\u001b[0m"
     ]
    }
   ],
   "source": [
    "string s = \" ape \" ; \n",
    "boo c = \" fool \" < s; \n",
    "if (c) cout << \" Success!\\n \" ;"
   ]
  },
  {
   "cell_type": "code",
   "execution_count": 11,
   "metadata": {},
   "outputs": [],
   "source": [
    "string s = \" ape \" ; \n",
    "if (s== \" fool \" ) cout << \" Success!\\n \" ;\n",
    "// logical error"
   ]
  },
  {
   "cell_type": "code",
   "execution_count": 12,
   "metadata": {},
   "outputs": [
    {
     "name": "stderr",
     "output_type": "stream",
     "text": [
      "\u001b[1minput_line_46:3:25: \u001b[0m\u001b[0;1;35mwarning: \u001b[0m\u001b[1mresult of comparison against a string literal is unspecified\n",
      "      (use strncmp instead) [-Wstring-compare]\u001b[0m\n",
      "if (s== \" fool \" ) cout < \" Success!\\n \" ;\n",
      "\u001b[0;1;32m                        ^ ~~~~~~~~~~~~~~\n",
      "\u001b[0m\u001b[1minput_line_46:3:25: \u001b[0m\u001b[0;1;31merror: \u001b[0m\u001b[1minvalid operands to binary expression ('std::ostream'\n",
      "      (aka 'basic_ostream<char>') and 'const char *')\u001b[0m\n",
      "if (s== \" fool \" ) cout < \" Success!\\n \" ;\n",
      "\u001b[0;1;32m                   ~~~~ ^ ~~~~~~~~~~~~~~\n",
      "\u001b[0m\u001b[1minput_line_46:2:9: \u001b[0m\u001b[0;1;31merror: \u001b[0m\u001b[1mredefinition of 's'\u001b[0m\n",
      " string s = \" ape \" ; \n",
      "\u001b[0;1;32m        ^\n",
      "\u001b[0m\u001b[1minput_line_45:2:9: \u001b[0m\u001b[0;1;30mnote: \u001b[0mprevious definition is here\u001b[0m\n",
      " string s = \" ape \" ; \n",
      "\u001b[0;1;32m        ^\n",
      "\u001b[0m"
     ]
    }
   ],
   "source": [
    "string s = \" ape \" ; \n",
    "if (s== \" fool \" ) cout < \" Success!\\n \" ;"
   ]
  },
  {
   "cell_type": "code",
   "execution_count": 14,
   "metadata": {},
   "outputs": [
    {
     "name": "stderr",
     "output_type": "stream",
     "text": [
      "\u001b[1minput_line_48:3:9: \u001b[0m\u001b[0;1;31merror: \u001b[0m\u001b[1mvalue of type\n",
      "      'basic_string<char, std::char_traits<char>, std::allocator<char> >' is not\n",
      "      contextually convertible to 'bool'\u001b[0m\n",
      "    if (s+ \" fool \" ) cout < \" Success!\\n \" ;\n",
      "\u001b[0;1;32m        ^~~~~~~~~~~\n",
      "\u001b[0m\u001b[1minput_line_48:3:28: \u001b[0m\u001b[0;1;35mwarning: \u001b[0m\u001b[1mresult of comparison against a string literal is unspecified\n",
      "      (use strncmp instead) [-Wstring-compare]\u001b[0m\n",
      "    if (s+ \" fool \" ) cout < \" Success!\\n \" ;\n",
      "\u001b[0;1;32m                           ^ ~~~~~~~~~~~~~~\n",
      "\u001b[0m\u001b[1minput_line_48:3:28: \u001b[0m\u001b[0;1;31merror: \u001b[0m\u001b[1minvalid operands to binary expression ('std::ostream'\n",
      "      (aka 'basic_ostream<char>') and 'const char *')\u001b[0m\n",
      "    if (s+ \" fool \" ) cout < \" Success!\\n \" ;\n",
      "\u001b[0;1;32m                      ~~~~ ^ ~~~~~~~~~~~~~~\n",
      "\u001b[0m"
     ]
    }
   ],
   "source": [
    "string s12 = \" ape \" ; \n",
    "if (s12+ \" fool \" ) cout < \" Success!\\n \" ;\n"
   ]
  },
  {
   "cell_type": "code",
   "execution_count": 3,
   "metadata": {},
   "outputs": [
    {
     "name": "stderr",
     "output_type": "stream",
     "text": [
      "\u001b[1minput_line_34:2:2: \u001b[0m\u001b[0;1;31merror: \u001b[0m\u001b[1mcannot delete expression of type 'vector<char>'\u001b[0m\n",
      " delete v;\n",
      "\u001b[0;1;32m ^      ~\n",
      "\u001b[0m\u001b[1minput_line_34:3:14: \u001b[0m\u001b[0;1;31merror: \u001b[0m\u001b[1mredefinition of 'v'\u001b[0m\n",
      "vector<char> v(5);\n",
      "\u001b[0;1;32m             ^\n",
      "\u001b[0m\u001b[1minput_line_33:3:14: \u001b[0m\u001b[0;1;30mnote: \u001b[0mprevious definition is here\u001b[0m\n",
      "vector<char> v(5);\n",
      "\u001b[0;1;32m             ^\n",
      "\u001b[0m"
     ]
    }
   ],
   "source": [
    "vector<char> v13(5);\n",
    "for (int i=0; 0<v13.size(); ++i) ; \n",
    "cout << \" Success!\\n \" ;\n",
    "// stop the program"
   ]
  },
  {
   "cell_type": "code",
   "execution_count": 2,
   "metadata": {},
   "outputs": [
    {
     "name": "stdout",
     "output_type": "stream",
     "text": [
      " Success!\n",
      " "
     ]
    }
   ],
   "source": [
    "vector<char> v14(5);\n",
    "for (int i=0; i<=v14.size(); ++i) ;\n",
    "cout << \" Success!\\n \" ;\n",
    "//logical error"
   ]
  },
  {
   "cell_type": "code",
   "execution_count": 4,
   "metadata": {},
   "outputs": [
    {
     "name": "stdout",
     "output_type": "stream",
     "text": [
      " Succe"
     ]
    }
   ],
   "source": [
    "string s15 = \" Success!\\n \" ;\n",
    "for (int i=0; i<6; ++i) cout << s15[i];\n",
    "// logical error"
   ]
  },
  {
   "cell_type": "code",
   "execution_count": 5,
   "metadata": {},
   "outputs": [
    {
     "name": "stderr",
     "output_type": "stream",
     "text": [
      "\u001b[1minput_line_36:2:16: \u001b[0m\u001b[0;1;31merror: \u001b[0m\u001b[1mexpected ';' after expression\u001b[0m\n",
      " if (true) then cout << \" Success!\\n \" ;\n",
      "\u001b[0;1;32m               ^\n",
      "\u001b[0m\u001b[0;32m               ;\n",
      "\u001b[0m\u001b[1minput_line_36:3:1: \u001b[0m\u001b[0;1;31merror: \u001b[0m\u001b[1mexpected expression\u001b[0m\n",
      "else cout << \" Fail!\\n \" ;\n",
      "\u001b[0;1;32m^\n",
      "\u001b[0m"
     ]
    }
   ],
   "source": [
    "if (true) then cout << \" Success!\\n \" ;\n",
    "else cout << \" Fail!\\n \" ;"
   ]
  },
  {
   "cell_type": "code",
   "execution_count": 6,
   "metadata": {},
   "outputs": [
    {
     "name": "stderr",
     "output_type": "stream",
     "text": [
      "\u001b[1minput_line_37:4:6: \u001b[0m\u001b[0;1;35mwarning: \u001b[0m\u001b[1mcomparison of constant 2000 with expression of type 'char' is always false\n",
      "      [-Wtautological-constant-out-of-range-compare]\u001b[0m\n",
      "if (c==2000) cout << \" Success!\\n \" ;\n",
      "\u001b[0;1;32m    ~^ ~~~~\n",
      "\u001b[0m"
     ]
    }
   ],
   "source": [
    "int x = 2000;\n",
    "char c = x; \n",
    "if (c==2000) cout << \" Success!\\n \" ;"
   ]
  },
  {
   "cell_type": "code",
   "execution_count": 7,
   "metadata": {},
   "outputs": [
    {
     "name": "stdout",
     "output_type": "stream",
     "text": [
      " Success!\n"
     ]
    }
   ],
   "source": [
    "string s18 = \" Success!\\n \" ; \n",
    "for (int i=0; i<10; ++i) cout << s18[i];"
   ]
  },
  {
   "cell_type": "code",
   "execution_count": 9,
   "metadata": {},
   "outputs": [
    {
     "name": "stderr",
     "output_type": "stream",
     "text": [
      "\u001b[1minput_line_40:2:2: \u001b[0m\u001b[0;1;31merror: \u001b[0m\u001b[1muse of class template 'vector' requires template arguments\u001b[0m\n",
      " vector v19(5);\n",
      "\u001b[0;1;32m ^\n",
      "\u001b[0m\u001b[1m/usr/include/c++/5/bits/stl_vector.h:214:11: \u001b[0m\u001b[0;1;30mnote: \u001b[0mtemplate is declared here\u001b[0m\n",
      "    class vector : protected _Vector_base<_Tp, _Alloc>\n",
      "\u001b[0;1;32m          ^\n",
      "\u001b[0m"
     ]
    }
   ],
   "source": [
    "vector v19(5);\n",
    "for (int i=0; i<=v19.size(); ++i) ; cout << \" Success!\\n \" ;"
   ]
  },
  {
   "cell_type": "code",
   "execution_count": 10,
   "metadata": {},
   "outputs": [],
   "source": [
    "int i=0;\n",
    "int j = 9;\n",
    "while (i<10) ++j; \n",
    "if (j<i) cout << \" Success!\\n \" ;\n",
    "// infinite loop"
   ]
  },
  {
   "cell_type": "code",
   "execution_count": null,
   "metadata": {},
   "outputs": [
    {
     "name": "stderr",
     "output_type": "stream",
     "text": [
      "\n",
      " *** Break *** floating point exception\n"
     ]
    }
   ],
   "source": [
    "int x = 2;\n",
    "double d = 5 / (x-2);\n",
    "//if (d==2*x+0.5) cout << \" Success!\\n \" ;\n",
    "//run-time error: Division by Zero"
   ]
  },
  {
   "cell_type": "code",
   "execution_count": 1,
   "metadata": {},
   "outputs": [
    {
     "name": "stderr",
     "output_type": "stream",
     "text": [
      "\u001b[1minput_line_28:2:8: \u001b[0m\u001b[0;1;31merror: \u001b[0m\u001b[1mexpected unqualified-id\u001b[0m\n",
      " string<char> s22 = \" Success!\\n \" ;\n",
      "\u001b[0;1;32m       ^\n",
      "\u001b[0m\u001b[1minput_line_28:3:35: \u001b[0m\u001b[0;1;31merror: \u001b[0m\u001b[1muse of undeclared identifier 's22'\u001b[0m\n",
      "for (int i=0; i<=10; ++i) cout << s22[i];\n",
      "\u001b[0;1;32m                                  ^\n",
      "\u001b[0m"
     ]
    }
   ],
   "source": [
    "string<char> s22 = \" Success!\\n \" ;\n",
    "for (int i=0; i<=10; ++i) cout << s22[i];"
   ]
  },
  {
   "cell_type": "code",
   "execution_count": 2,
   "metadata": {},
   "outputs": [
    {
     "name": "stderr",
     "output_type": "stream",
     "text": [
      "\u001b[1minput_line_34:2:5: \u001b[0m\u001b[0;1;31merror: \u001b[0m\u001b[1muse of undeclared identifier 'j'\u001b[0m\n",
      " (++j)\n",
      "\u001b[0;1;32m    ^\n",
      "\u001b[0mError in <HandleInterpreterException>: Error evaluating expression (++j).\n",
      "Execution of your code was aborted.\n"
     ]
    }
   ],
   "source": [
    "int i=0;\n",
    "while (i<10) ++j;\n",
    "if (j<i) cout << \" Success!\\n \" ;"
   ]
  },
  {
   "cell_type": "code",
   "execution_count": 4,
   "metadata": {},
   "outputs": [
    {
     "name": "stderr",
     "output_type": "stream",
     "text": [
      "\u001b[1minput_line_36:4:6: \u001b[0m\u001b[0;1;35mwarning: \u001b[0m\u001b[1musing the result of an assignment as a condition without parentheses\n",
      "      [-Wparentheses]\u001b[0m\n",
      "if (d=2*x+0.5) cout << \" Success!\\n \" ;\n",
      "\u001b[0;1;32m    ~^~~~~~~~\n",
      "\u001b[0m\u001b[1minput_line_36:4:6: \u001b[0m\u001b[0;1;30mnote: \u001b[0mplace parentheses around the assignment to silence this warning\u001b[0m\n",
      "if (d=2*x+0.5) cout << \" Success!\\n \" ;\n",
      "\u001b[0;1;32m     ^\n",
      "\u001b[0m\u001b[0;32m    (        )\n",
      "\u001b[0m\u001b[1minput_line_36:4:6: \u001b[0m\u001b[0;1;30mnote: \u001b[0muse '==' to turn this assignment into an equality comparison\u001b[0m\n",
      "if (d=2*x+0.5) cout << \" Success!\\n \" ;\n",
      "\u001b[0;1;32m     ^\n",
      "\u001b[0m\u001b[0;32m     ==\n",
      "\u001b[0m"
     ]
    },
    {
     "name": "stdout",
     "output_type": "stream",
     "text": [
      " Success!\n",
      " "
     ]
    }
   ],
   "source": [
    "int x = 4;\n",
    "double d = 5/ (x-2);\n",
    "if (d=2*x+0.5) cout << \" Success!\\n \" ;"
   ]
  },
  {
   "cell_type": "code",
   "execution_count": 5,
   "metadata": {},
   "outputs": [
    {
     "name": "stderr",
     "output_type": "stream",
     "text": [
      "\u001b[1minput_line_37:2:6: \u001b[0m\u001b[0;1;31merror: \u001b[0m\u001b[1minvalid operands to binary expression ('std::istream'\n",
      "      (aka 'basic_istream<char>') and 'const char *')\u001b[0m\n",
      " cin << \" Success!\\n \" ;\n",
      "\u001b[0;1;32m ~~~ ^  ~~~~~~~~~~~~~~\n",
      "\u001b[0m\u001b[1m/home/javad/MyPrograms/build/include/TBuffer.h:369:17: \u001b[0m\u001b[0;1;30mnote: \u001b[0mcandidate function not viable: no known conversion from 'std::istream' (aka\n",
      "      'basic_istream<char>') to 'TBuffer &' for 1st argument\u001b[0m\n",
      "inline TBuffer &operator<<(TBuffer &buf, const Char_t *c)  { buf.WriteCh...\n",
      "\u001b[0;1;32m                ^\n",
      "\u001b[0m\u001b[1m/home/javad/MyPrograms/build/include/TBuffer.h:394:32: \u001b[0m\u001b[0;1;30mnote: \u001b[0mcandidate function not viable: no known conversion from 'std::istream' (aka\n",
      "      'basic_istream<char>') to 'TBuffer &' for 1st argument\u001b[0m\n",
      "template <class Tmpl> TBuffer &operator<<(TBuffer &buf, const Tmpl *obj)\n",
      "\u001b[0;1;32m                               ^\n",
      "\u001b[0m\u001b[1m/home/javad/MyPrograms/build/include/TBuffer.h:356:17: \u001b[0m\u001b[0;1;30mnote: \u001b[0mcandidate function not viable: no known conversion from 'std::istream' (aka\n",
      "      'basic_istream<char>') to 'TBuffer &' for 1st argument\u001b[0m\n",
      "inline TBuffer &operator<<(TBuffer &buf, Bool_t b)   { buf.WriteBool(b)...\n",
      "\u001b[0;1;32m                ^\n",
      "\u001b[0m\u001b[1m/home/javad/MyPrograms/build/include/TString.h:465:16: \u001b[0m\u001b[0;1;30mnote: \u001b[0mcandidate function not viable: no known conversion from 'std::istream' (aka\n",
      "      'basic_istream<char>') to 'std::ostream &' (aka 'basic_ostream<char> &')\n",
      "      for 1st argument\u001b[0m\n",
      "std::ostream  &operator<<(std::ostream &str, const TString &s);\n",
      "\u001b[0;1;32m               ^\n",
      "\u001b[0m\u001b[1m/home/javad/MyPrograms/build/include/TBuffer.h:370:17: \u001b[0m\u001b[0;1;30mnote: \u001b[0mcandidate function not viable: no known conversion from 'std::istream' (aka\n",
      "      'basic_istream<char>') to 'TBuffer &' for 1st argument\u001b[0m\n",
      "inline TBuffer &operator<<(TBuffer &buf, const TString &s) { buf.WriteTS...\n",
      "\u001b[0;1;32m                ^\n",
      "\u001b[0m\u001b[1m/home/javad/MyPrograms/build/include/TUUID.h:95:10: \u001b[0m\u001b[0;1;30mnote: \u001b[0mcandidate function not viable: no known conversion from 'std::istream' (aka\n",
      "      'basic_istream<char>') to 'TBuffer &' for 1st argument\u001b[0m\n",
      "TBuffer &operator<<(TBuffer &buf, const TUUID &uuid);\n",
      "\u001b[0;1;32m         ^\n",
      "\u001b[0m\u001b[1m/home/javad/MyPrograms/build/include/TString.h:470:11: \u001b[0m\u001b[0;1;30mnote: \u001b[0mcandidate function not viable: no known conversion from 'std::istream' (aka\n",
      "      'basic_istream<char>') to 'TBuffer &' for 1st argument\u001b[0m\n",
      "TBuffer  &operator<<(TBuffer &buf, const TString * sp);\n",
      "\u001b[0;1;32m          ^\n",
      "\u001b[0m\u001b[1m/home/javad/MyPrograms/build/include/TBuffer.h:357:17: \u001b[0m\u001b[0;1;30mnote: \u001b[0mcandidate function not viable: no known conversion from 'std::istream' (aka\n",
      "      'basic_istream<char>') to 'TBuffer &' for 1st argument\u001b[0m\n",
      "inline TBuffer &operator<<(TBuffer &buf, Char_t c)   { buf.WriteChar(c)...\n",
      "\u001b[0;1;32m                ^\n",
      "\u001b[0m\u001b[1m/home/javad/MyPrograms/build/include/TBuffer.h:358:17: \u001b[0m\u001b[0;1;30mnote: \u001b[0mcandidate function not viable: no known conversion from 'std::istream' (aka\n",
      "      'basic_istream<char>') to 'TBuffer &' for 1st argument\u001b[0m\n",
      "inline TBuffer &operator<<(TBuffer &buf, UChar_t c)  { buf.WriteUChar(c)...\n",
      "\u001b[0;1;32m                ^\n",
      "\u001b[0m\u001b[1m/home/javad/MyPrograms/build/include/TBuffer.h:359:17: \u001b[0m\u001b[0;1;30mnote: \u001b[0mcandidate function not viable: no known conversion from 'std::istream' (aka\n",
      "      'basic_istream<char>') to 'TBuffer &' for 1st argument\u001b[0m\n",
      "inline TBuffer &operator<<(TBuffer &buf, Short_t s)  { buf.WriteShort(s)...\n",
      "\u001b[0;1;32m                ^\n",
      "\u001b[0m\u001b[1m/home/javad/MyPrograms/build/include/TBuffer.h:360:17: \u001b[0m\u001b[0;1;30mnote: \u001b[0mcandidate function not viable: no known conversion from 'std::istream' (aka\n",
      "      'basic_istream<char>') to 'TBuffer &' for 1st argument\u001b[0m\n",
      "inline TBuffer &operator<<(TBuffer &buf, UShort_t s) { buf.WriteUShort(s...\n",
      "\u001b[0;1;32m                ^\n",
      "\u001b[0m\u001b[1m/home/javad/MyPrograms/build/include/TBuffer.h:361:17: \u001b[0m\u001b[0;1;30mnote: \u001b[0mcandidate function not viable: no known conversion from 'std::istream' (aka\n",
      "      'basic_istream<char>') to 'TBuffer &' for 1st argument\u001b[0m\n",
      "inline TBuffer &operator<<(TBuffer &buf, Int_t i)    { buf.WriteInt(i)...\n",
      "\u001b[0;1;32m                ^\n",
      "\u001b[0m\u001b[1m/home/javad/MyPrograms/build/include/TBuffer.h:362:17: \u001b[0m\u001b[0;1;30mnote: \u001b[0mcandidate function not viable: no known conversion from 'std::istream' (aka\n",
      "      'basic_istream<char>') to 'TBuffer &' for 1st argument\u001b[0m\n",
      "inline TBuffer &operator<<(TBuffer &buf, UInt_t i)   { buf.WriteUInt(i)...\n",
      "\u001b[0;1;32m                ^\n",
      "\u001b[0m\u001b[1m/home/javad/MyPrograms/build/include/TBuffer.h:363:17: \u001b[0m\u001b[0;1;30mnote: \u001b[0mcandidate function not viable: no known conversion from 'std::istream' (aka\n",
      "      'basic_istream<char>') to 'TBuffer &' for 1st argument\u001b[0m\n",
      "inline TBuffer &operator<<(TBuffer &buf, Long_t l)   { buf.WriteLong(l)...\n",
      "\u001b[0;1;32m                ^\n",
      "\u001b[0m\u001b[1m/home/javad/MyPrograms/build/include/TBuffer.h:364:17: \u001b[0m\u001b[0;1;30mnote: \u001b[0mcandidate function not viable: no known conversion from 'std::istream' (aka\n",
      "      'basic_istream<char>') to 'TBuffer &' for 1st argument\u001b[0m\n",
      "inline TBuffer &operator<<(TBuffer &buf, ULong_t l)  { buf.WriteULong(l)...\n",
      "\u001b[0;1;32m                ^\n",
      "\u001b[0m\u001b[1m/home/javad/MyPrograms/build/include/TBuffer.h:365:17: \u001b[0m\u001b[0;1;30mnote: \u001b[0mcandidate function not viable: no known conversion from 'std::istream' (aka\n",
      "      'basic_istream<char>') to 'TBuffer &' for 1st argument\u001b[0m\n",
      "inline TBuffer &operator<<(TBuffer &buf, Long64_t l) { buf.WriteLong64(l...\n",
      "\u001b[0;1;32m                ^\n",
      "\u001b[0m\u001b[1m/home/javad/MyPrograms/build/include/TBuffer.h:366:17: \u001b[0m\u001b[0;1;30mnote: \u001b[0mcandidate function not viable: no known conversion from 'std::istream' (aka\n",
      "      'basic_istream<char>') to 'TBuffer &' for 1st argument\u001b[0m\n",
      "inline TBuffer &operator<<(TBuffer &buf, ULong64_t l){ buf.WriteULong64(...\n",
      "\u001b[0;1;32m                ^\n",
      "\u001b[0m\u001b[1m/home/javad/MyPrograms/build/include/TBuffer.h:367:17: \u001b[0m\u001b[0;1;30mnote: \u001b[0mcandidate function not viable: no known conversion from 'std::istream' (aka\n",
      "      'basic_istream<char>') to 'TBuffer &' for 1st argument\u001b[0m\n",
      "inline TBuffer &operator<<(TBuffer &buf, Float_t f)  { buf.WriteFloat(f)...\n",
      "\u001b[0;1;32m                ^\n",
      "\u001b[0m\u001b[1m/home/javad/MyPrograms/build/include/TBuffer.h:368:17: \u001b[0m\u001b[0;1;30mnote: \u001b[0mcandidate function not viable: no known conversion from 'std::istream' (aka\n",
      "      'basic_istream<char>') to 'TBuffer &' for 1st argument\u001b[0m\n",
      "inline TBuffer &operator<<(TBuffer &buf, Double_t d) { buf.WriteDouble(d...\n",
      "\u001b[0;1;32m                ^\n",
      "\u001b[0m\u001b[1m/home/javad/MyPrograms/build/include/TArray.h:75:10: \u001b[0m\u001b[0;1;30mnote: \u001b[0mcandidate function not viable: no known conversion from 'std::istream' (aka\n",
      "      'basic_istream<char>') to 'TBuffer &' for 1st argument\u001b[0m\n",
      "TBuffer &operator<<(TBuffer &b, const TArray *obj);\n",
      "\u001b[0;1;32m         ^\n",
      "\u001b[0m\u001b[1m/home/javad/MyPrograms/build/include/TArrayD.h:73:17: \u001b[0m\u001b[0;1;30mnote: \u001b[0mcandidate function not viable: no known conversion from 'std::istream' (aka\n",
      "      'basic_istream<char>') to 'TBuffer &' for 1st argument\u001b[0m\n",
      "inline TBuffer &operator<<(TBuffer &buf, const TArrayD *obj)\n",
      "\u001b[0;1;32m                ^\n",
      "\u001b[0m\u001b[1m/home/javad/MyPrograms/build/include/TArrayC.h:72:17: \u001b[0m\u001b[0;1;30mnote: \u001b[0mcandidate function not viable: no known conversion from 'std::istream' (aka\n",
      "      'basic_istream<char>') to 'TBuffer &' for 1st argument\u001b[0m\n",
      "inline TBuffer &operator<<(TBuffer &buf, const TArrayC *obj)\n",
      "\u001b[0;1;32m                ^\n",
      "\u001b[0m\u001b[1m/home/javad/MyPrograms/build/include/TArrayS.h:72:17: \u001b[0m\u001b[0;1;30mnote: \u001b[0mcandidate function not viable: no known conversion from 'std::istream' (aka\n",
      "      'basic_istream<char>') to 'TBuffer &' for 1st argument\u001b[0m\n",
      "inline TBuffer &operator<<(TBuffer &buf, const TArrayS *obj)\n",
      "\u001b[0;1;32m                ^\n",
      "\u001b[0m\u001b[1m/home/javad/MyPrograms/build/include/TArrayI.h:73:17: \u001b[0m\u001b[0;1;30mnote: \u001b[0mcandidate function not viable: no known conversion from 'std::istream' (aka\n",
      "      'basic_istream<char>') to 'TBuffer &' for 1st argument\u001b[0m\n",
      "inline TBuffer &operator<<(TBuffer &buf, const TArrayI *obj)\n",
      "\u001b[0;1;32m                ^\n",
      "\u001b[0m\u001b[1m/home/javad/MyPrograms/build/include/TArrayF.h:72:17: \u001b[0m\u001b[0;1;30mnote: \u001b[0mcandidate function not viable: no known conversion from 'std::istream' (aka\n",
      "      'basic_istream<char>') to 'TBuffer &' for 1st argument\u001b[0m\n",
      "inline TBuffer &operator<<(TBuffer &buf, const TArrayF *obj)\n",
      "\u001b[0;1;32m                ^\n",
      "\u001b[0m\u001b[1m/home/javad/MyPrograms/build/include/TBits.h:184:22: \u001b[0m\u001b[0;1;30mnote: \u001b[0mcandidate function not viable: no known conversion from 'std::istream' (aka\n",
      "      'basic_istream<char>') to 'std::ostream &' (aka 'basic_ostream<char> &')\n",
      "      for 1st argument\u001b[0m\n",
      "inline std::ostream &operator<<(std::ostream& os, const TBits& rhs)\n",
      "\u001b[0;1;32m                     ^\n",
      "\u001b[0m\u001b[1m/home/javad/MyPrograms/build/include/TTimeStamp.h:59:15: \u001b[0m\u001b[0;1;30mnote: \u001b[0mcandidate function not viable: no known conversion from 'std::istream' (aka\n",
      "      'basic_istream<char>') to 'std::ostream &' (aka 'basic_ostream<char> &')\n",
      "      for 1st argument\u001b[0m\n",
      "std::ostream &operator<<(std::ostream &os,  const TTimeStamp &ts);\n",
      "\u001b[0;1;32m              ^\n",
      "\u001b[0m\u001b[1m/home/javad/MyPrograms/build/include/TTimeStamp.h:60:10: \u001b[0m\u001b[0;1;30mnote: \u001b[0mcandidate function not viable: no known conversion from 'std::istream' (aka\n",
      "      'basic_istream<char>') to 'TBuffer &' for 1st argument\u001b[0m\n",
      "TBuffer &operator<<(TBuffer &buf, const TTimeStamp &ts);\n",
      "\u001b[0;1;32m         ^\n",
      "\u001b[0m\u001b[1m/home/javad/MyPrograms/build/include/TMD5.h:89:10: \u001b[0m\u001b[0;1;30mnote: \u001b[0mcandidate function not viable: no known conversion from 'std::istream' (aka\n",
      "      'basic_istream<char>') to 'TBuffer &' for 1st argument\u001b[0m\n",
      "TBuffer &operator<<(TBuffer &buf, const TMD5 &md5);\n",
      "\u001b[0;1;32m         ^\n",
      "\u001b[0m\u001b[1m/home/javad/MyPrograms/build/include/TArrayL.h:74:17: \u001b[0m\u001b[0;1;30mnote: \u001b[0mcandidate function not viable: no known conversion from 'std::istream' (aka\n",
      "      'basic_istream<char>') to 'TBuffer &' for 1st argument\u001b[0m\n",
      "inline TBuffer &operator<<(TBuffer &buf, const TArrayL *obj)\n",
      "\u001b[0;1;32m                ^\n",
      "\u001b[0m\u001b[1m/home/javad/MyPrograms/build/include/RooPrintable.h:65:15: \u001b[0m\u001b[0;1;30mnote: \u001b[0mcandidate function not viable: no known conversion from 'std::istream' (aka\n",
      "      'basic_istream<char>') to 'std::ostream &' (aka 'basic_ostream<char> &')\n",
      "      for 1st argument\u001b[0m\n",
      "std::ostream& operator<<(std::ostream& os, const RooPrintable& rp) ; \n",
      "\u001b[0;1;32m              ^\n",
      "\u001b[0m\u001b[1m/home/javad/MyPrograms/build/include/RooAbsArg.h:601:15: \u001b[0m\u001b[0;1;30mnote: \u001b[0mcandidate function not viable: no known conversion from 'std::istream' (aka\n",
      "      'basic_istream<char>') to 'std::ostream &' (aka 'basic_ostream<char> &')\n",
      "      for 1st argument\u001b[0m\n",
      "std::ostream& operator<<(std::ostream& os, const RooAbsArg &arg);\n",
      "\u001b[0;1;32m              ^\n",
      "\u001b[0m\u001b[1m/home/javad/MyPrograms/build/include/TArrayL64.h:74:17: \u001b[0m\u001b[0;1;30mnote: \u001b[0mcandidate function not viable: no known conversion from 'std::istream' (aka\n",
      "      'basic_istream<char>') to 'TBuffer &' for 1st argument\u001b[0m\n",
      "inline TBuffer &operator<<(TBuffer &buf, const TArrayL64 *obj)\n",
      "\u001b[0;1;32m                ^\n",
      "\u001b[0m\u001b[1m/usr/include/c++/5/bits/basic_string.h:5275:5: \u001b[0m\u001b[0;1;30mnote: \u001b[0mcandidate template ignored: could not match 'basic_ostream' against\n",
      "      'basic_istream'\u001b[0m\n",
      "    operator<<(basic_ostream<_CharT, _Traits>& __os,\n",
      "\u001b[0;1;32m    ^\n",
      "\u001b[0m\u001b[1m/usr/include/c++/5/bitset:1530:5: \u001b[0m\u001b[0;1;30mnote: \u001b[0mcandidate template ignored: could not match 'basic_ostream' against\n",
      "      'basic_istream'\u001b[0m\n",
      "    operator<<(std::basic_ostream<_CharT, _Traits>& __os,\n",
      "\u001b[0;1;32m    ^\n",
      "\u001b[0m\u001b[1m/usr/include/c++/5/bits/shared_ptr.h:66:5: \u001b[0m\u001b[0;1;30mnote: \u001b[0mcandidate template ignored: could not match 'basic_ostream' against\n",
      "      'basic_istream'\u001b[0m\n",
      "    operator<<(std::basic_ostream<_Ch, _Tr>& __os,\n",
      "\u001b[0;1;32m    ^\n",
      "\u001b[0m\u001b[1m/usr/include/c++/5/system_error:209:5: \u001b[0m\u001b[0;1;30mnote: \u001b[0mcandidate template ignored: could not match 'basic_ostream' against\n",
      "      'basic_istream'\u001b[0m\n",
      "    operator<<(basic_ostream<_CharT, _Traits>& __os, const error_code& __e)\n",
      "\u001b[0;1;32m    ^\n",
      "\u001b[0m\u001b[1m/usr/include/c++/5/bits/random.h:363:2: \u001b[0m\u001b[0;1;30mnote: \u001b[0mcandidate template ignored: could not match 'basic_ostream' against\n",
      "      'basic_istream'\u001b[0m\n",
      "        operator<<(std::basic_ostream<_CharT, _Traits>& __os,\n",
      "\u001b[0;1;32m        ^\n",
      "\u001b[0m\u001b[1m/usr/include/c++/5/bits/random.h:580:2: \u001b[0m\u001b[0;1;30mnote: \u001b[0mcandidate template ignored: could not match 'basic_ostream' against\n",
      "      'basic_istream'\u001b[0m\n",
      "        operator<<(std::basic_ostream<_CharT, _Traits>& __os,\n",
      "\u001b[0;1;32m        ^\n",
      "\u001b[0m\u001b[1m/usr/include/c++/5/bits/random.h:788:2: \u001b[0m\u001b[0;1;30mnote: \u001b[0mcandidate template ignored: could not match 'basic_ostream' against\n",
      "      'basic_istream'\u001b[0m\n",
      "        operator<<(std::basic_ostream<_CharT, _Traits>& __os,\n",
      "\u001b[0;1;32m        ^\n",
      "\u001b[0m\u001b[1m/usr/include/c++/5/bits/random.h:1014:2: \u001b[0m\u001b[0;1;30mnote: \u001b[0mcandidate template ignored: could not match 'basic_ostream' against\n",
      "      'basic_istream'\u001b[0m\n",
      "        operator<<(std::basic_ostream<_CharT, _Traits>& __os,\n",
      "\u001b[0;1;32m        ^\n",
      "\u001b[0m\u001b[1m/usr/include/c++/5/bits/random.h:1269:5: \u001b[0m\u001b[0;1;30mnote: \u001b[0mcandidate template ignored: could not match 'basic_ostream' against\n",
      "      'basic_istream'\u001b[0m\n",
      "    operator<<(std::basic_ostream<_CharT, _Traits>& __os,\n",
      "\u001b[0;1;32m    ^\n",
      "\u001b[0m\u001b[1m/usr/include/c++/5/bits/random.tcc:831:5: \u001b[0m\u001b[0;1;30mnote: \u001b[0mcandidate template ignored: could not match 'basic_ostream' against\n",
      "      'basic_istream'\u001b[0m\n",
      "    operator<<(std::basic_ostream<_CharT, _Traits>& __os,\n",
      "\u001b[0;1;32m    ^\n",
      "\u001b[0m\u001b[1m/usr/include/c++/5/bits/random.tcc:877:5: \u001b[0m\u001b[0;1;30mnote: \u001b[0mcandidate template ignored: could not match 'basic_ostream' against\n",
      "      'basic_istream'\u001b[0m\n",
      "    operator<<(std::basic_ostream<_CharT, _Traits>& __os,\n",
      "\u001b[0;1;32m    ^\n",
      "\u001b[0m\u001b[1m/usr/include/c++/5/bits/random.tcc:936:5: \u001b[0m\u001b[0;1;30mnote: \u001b[0mcandidate template ignored: could not match 'basic_ostream' against\n",
      "      'basic_istream'\u001b[0m\n",
      "    operator<<(std::basic_ostream<_CharT, _Traits>& __os,\n",
      "\u001b[0;1;32m    ^\n",
      "\u001b[0m\u001b[1m/usr/include/c++/5/bits/random.tcc:998:5: \u001b[0m\u001b[0;1;30mnote: \u001b[0mcandidate template ignored: could not match 'basic_ostream' against\n",
      "      'basic_istream'\u001b[0m\n",
      "    operator<<(std::basic_ostream<_CharT, _Traits>& __os,\n",
      "\u001b[0;1;32m    ^\n",
      "\u001b[0m\u001b[1m/usr/include/c++/5/bits/random.tcc:1080:5: \u001b[0m\u001b[0;1;30mnote: \u001b[0mcandidate template ignored: could not match 'basic_ostream' against\n",
      "      'basic_istream'\u001b[0m\n",
      "    operator<<(std::basic_ostream<_CharT, _Traits>& __os,\n",
      "\u001b[0;1;32m    ^\n",
      "\u001b[0m\u001b[1m/usr/include/c++/5/bits/random.tcc:1195:5: \u001b[0m\u001b[0;1;30mnote: \u001b[0mcandidate template ignored: could not match 'basic_ostream' against\n",
      "      'basic_istream'\u001b[0m\n",
      "    operator<<(std::basic_ostream<_CharT, _Traits>& __os,\n",
      "\u001b[0;1;32m    ^\n",
      "\u001b[0m\u001b[1m/usr/include/c++/5/bits/random.tcc:1400:5: \u001b[0m\u001b[0;1;30mnote: \u001b[0mcandidate template ignored: could not match 'basic_ostream' against\n",
      "      'basic_istream'\u001b[0m\n",
      "    operator<<(std::basic_ostream<_CharT, _Traits>& __os,\n",
      "\u001b[0;1;32m    ^\n",
      "\u001b[0m\u001b[1m/usr/include/c++/5/bits/random.tcc:1667:5: \u001b[0m\u001b[0;1;30mnote: \u001b[0mcandidate template ignored: could not match 'basic_ostream' against\n",
      "      'basic_istream'\u001b[0m\n",
      "    operator<<(std::basic_ostream<_CharT, _Traits>& __os,\n",
      "\u001b[0;1;32m    ^\n",
      "\u001b[0m\u001b[1m/usr/include/c++/5/bits/random.tcc:1731:5: \u001b[0m\u001b[0;1;30mnote: \u001b[0mcandidate template ignored: could not match 'basic_ostream' against\n",
      "      'basic_istream'\u001b[0m\n",
      "    operator<<(std::basic_ostream<_CharT, _Traits>& __os,\n",
      "\u001b[0;1;32m    ^\n",
      "\u001b[0m\u001b[1m/usr/include/c++/5/bits/random.tcc:1898:5: \u001b[0m\u001b[0;1;30mnote: \u001b[0mcandidate template ignored: could not match 'basic_ostream' against\n",
      "      'basic_istream'\u001b[0m\n",
      "    operator<<(std::basic_ostream<_CharT, _Traits>& __os,\n",
      "\u001b[0;1;32m    ^\n",
      "\u001b[0m\u001b[1m/usr/include/c++/5/bits/random.tcc:1963:5: \u001b[0m\u001b[0;1;30mnote: \u001b[0mcandidate template ignored: could not match 'basic_ostream' against\n",
      "      'basic_istream'\u001b[0m\n",
      "    operator<<(std::basic_ostream<_CharT, _Traits>& __os,\n",
      "\u001b[0;1;32m    ^\n",
      "\u001b[0m\u001b[1m/usr/include/c++/5/bits/random.tcc:2036:5: \u001b[0m\u001b[0;1;30mnote: \u001b[0mcandidate template ignored: could not match 'basic_ostream' against\n",
      "      'basic_istream'\u001b[0m\n",
      "    operator<<(std::basic_ostream<_CharT, _Traits>& __os,\n",
      "\u001b[0;1;32m    ^\n",
      "\u001b[0m\u001b[1m/usr/include/c++/5/bits/random.tcc:2123:5: \u001b[0m\u001b[0;1;30mnote: \u001b[0mcandidate template ignored: could not match 'basic_ostream' against\n",
      "      'basic_istream'\u001b[0m\n",
      "    operator<<(std::basic_ostream<_CharT, _Traits>& __os,\n",
      "\u001b[0;1;32m    ^\n",
      "\u001b[0m\u001b[1m/usr/include/c++/5/bits/random.tcc:2200:5: \u001b[0m\u001b[0;1;30mnote: \u001b[0mcandidate template ignored: could not match 'basic_ostream' against\n",
      "      'basic_istream'\u001b[0m\n",
      "    operator<<(std::basic_ostream<_CharT, _Traits>& __os,\n",
      "\u001b[0;1;32m    ^\n",
      "\u001b[0m\u001b[1m/usr/include/c++/5/bits/random.tcc:2275:5: \u001b[0m\u001b[0;1;30mnote: \u001b[0mcandidate template ignored: could not match 'basic_ostream' against\n",
      "      'basic_istream'\u001b[0m\n",
      "    operator<<(std::basic_ostream<_CharT, _Traits>& __os,\n",
      "\u001b[0;1;32m    ^\n",
      "\u001b[0m\u001b[1m/usr/include/c++/5/bits/random.tcc:2444:5: \u001b[0m\u001b[0;1;30mnote: \u001b[0mcandidate template ignored: could not match 'basic_ostream' against\n",
      "      'basic_istream'\u001b[0m\n",
      "    operator<<(std::basic_ostream<_CharT, _Traits>& __os,\n",
      "\u001b[0;1;32m    ^\n",
      "\u001b[0m\u001b[1m/usr/include/c++/5/bits/random.tcc:2522:5: \u001b[0m\u001b[0;1;30mnote: \u001b[0mcandidate template ignored: could not match 'basic_ostream' against\n",
      "      'basic_istream'\u001b[0m\n",
      "    operator<<(std::basic_ostream<_CharT, _Traits>& __os,\n",
      "\u001b[0;1;32m    ^\n",
      "\u001b[0m\u001b[1m/usr/include/c++/5/bits/random.tcc:2598:5: \u001b[0m\u001b[0;1;30mnote: \u001b[0mcandidate template ignored: could not match 'basic_ostream' against\n",
      "      'basic_istream'\u001b[0m\n",
      "    operator<<(std::basic_ostream<_CharT, _Traits>& __os,\n",
      "\u001b[0;1;32m    ^\n",
      "\u001b[0m\u001b[1m/usr/include/c++/5/bits/random.tcc:2734:5: \u001b[0m\u001b[0;1;30mnote: \u001b[0mcandidate template ignored: could not match 'basic_ostream' against\n",
      "      'basic_istream'\u001b[0m\n",
      "    operator<<(std::basic_ostream<_CharT, _Traits>& __os,\n",
      "\u001b[0;1;32m    ^\n",
      "\u001b[0m\u001b[1m/usr/include/c++/5/bits/random.tcc:2944:5: \u001b[0m\u001b[0;1;30mnote: \u001b[0mcandidate template ignored: could not match 'basic_ostream' against\n",
      "      'basic_istream'\u001b[0m\n",
      "    operator<<(std::basic_ostream<_CharT, _Traits>& __os,\n",
      "\u001b[0;1;32m    ^\n",
      "\u001b[0m\u001b[1m/usr/include/c++/5/bits/random.tcc:3160:5: \u001b[0m\u001b[0;1;30mnote: \u001b[0mcandidate template ignored: could not match 'basic_ostream' against\n",
      "      'basic_istream'\u001b[0m\n",
      "    operator<<(std::basic_ostream<_CharT, _Traits>& __os,\n",
      "\u001b[0;1;32m    ^\n",
      "\u001b[0m\u001b[1m/usr/include/c++/5/ostream:497:5: \u001b[0m\u001b[0;1;30mnote: \u001b[0mcandidate template ignored: could not match 'basic_ostream' against\n",
      "      'basic_istream'\u001b[0m\n",
      "    operator<<(basic_ostream<_CharT, _Traits>& __out, _CharT __c)\n",
      "\u001b[0;1;32m    ^\n",
      "\u001b[0m\u001b[1m/usr/include/c++/5/ostream:502:5: \u001b[0m\u001b[0;1;30mnote: \u001b[0mcandidate template ignored: could not match 'basic_ostream' against\n",
      "      'basic_istream'\u001b[0m\n",
      "    operator<<(basic_ostream<_CharT, _Traits>& __out, char __c)\n",
      "\u001b[0;1;32m    ^\n",
      "\u001b[0m\u001b[1m/usr/include/c++/5/ostream:508:5: \u001b[0m\u001b[0;1;30mnote: \u001b[0mcandidate template ignored: could not match 'basic_ostream' against\n",
      "      'basic_istream'\u001b[0m\n",
      "    operator<<(basic_ostream<char, _Traits>& __out, char __c)\n",
      "\u001b[0;1;32m    ^\n",
      "\u001b[0m\u001b[1m/usr/include/c++/5/ostream:514:5: \u001b[0m\u001b[0;1;30mnote: \u001b[0mcandidate template ignored: could not match 'basic_ostream' against\n",
      "      'basic_istream'\u001b[0m\n",
      "    operator<<(basic_ostream<char, _Traits>& __out, signed char __c)\n",
      "\u001b[0;1;32m    ^\n",
      "\u001b[0m\u001b[1m/usr/include/c++/5/ostream:519:5: \u001b[0m\u001b[0;1;30mnote: \u001b[0mcandidate template ignored: could not match 'basic_ostream' against\n",
      "      'basic_istream'\u001b[0m\n",
      "    operator<<(basic_ostream<char, _Traits>& __out, unsigned char __c)\n",
      "\u001b[0;1;32m    ^\n",
      "\u001b[0m\u001b[1m/usr/include/c++/5/ostream:539:5: \u001b[0m\u001b[0;1;30mnote: \u001b[0mcandidate template ignored: could not match 'basic_ostream' against\n",
      "      'basic_istream'\u001b[0m\n",
      "    operator<<(basic_ostream<_CharT, _Traits>& __out, const _CharT* __s)\n",
      "\u001b[0;1;32m    ^\n",
      "\u001b[0m\u001b[1m/usr/include/c++/5/ostream:556:5: \u001b[0m\u001b[0;1;30mnote: \u001b[0mcandidate template ignored: could not match 'basic_ostream' against\n",
      "      'basic_istream'\u001b[0m\n",
      "    operator<<(basic_ostream<char, _Traits>& __out, const char* __s)\n",
      "\u001b[0;1;32m    ^\n",
      "\u001b[0m\u001b[1m/usr/include/c++/5/ostream:569:5: \u001b[0m\u001b[0;1;30mnote: \u001b[0mcandidate template ignored: could not match 'basic_ostream' against\n",
      "      'basic_istream'\u001b[0m\n",
      "    operator<<(basic_ostream<char, _Traits>& __out, const signed char* __s)\n",
      "\u001b[0;1;32m    ^\n",
      "\u001b[0m\u001b[1m/usr/include/c++/5/ostream:574:5: \u001b[0m\u001b[0;1;30mnote: \u001b[0mcandidate template ignored: could not match 'basic_ostream' against\n",
      "      'basic_istream'\u001b[0m\n",
      "    operator<<(basic_ostream<char, _Traits>& __out, const unsigned char* __s)\n",
      "\u001b[0;1;32m    ^\n",
      "\u001b[0m\u001b[1m/usr/include/c++/5/ostream:628:5: \u001b[0m\u001b[0;1;30mnote: \u001b[0mcandidate template ignored: could not match 'basic_ostream' against\n",
      "      'basic_istream'\u001b[0m\n",
      "    operator<<(basic_ostream<_CharT, _Traits>&& __os, const _Tp& __x)\n",
      "\u001b[0;1;32m    ^\n",
      "\u001b[0m\u001b[1m/usr/include/c++/5/bits/ostream.tcc:321:5: \u001b[0m\u001b[0;1;30mnote: \u001b[0mcandidate template ignored: could not match 'basic_ostream' against\n",
      "      'basic_istream'\u001b[0m\n",
      "    operator<<(basic_ostream<_CharT, _Traits>& __out, const char* __s)\n",
      "\u001b[0;1;32m    ^\n",
      "\u001b[0m\u001b[1m/usr/include/c++/5/complex:526:5: \u001b[0m\u001b[0;1;30mnote: \u001b[0mcandidate template ignored: could not match 'basic_ostream' against\n",
      "      'basic_istream'\u001b[0m\n",
      "    operator<<(basic_ostream<_CharT, _Traits>& __os, const complex<_Tp>& __x)\n",
      "\u001b[0;1;32m    ^\n",
      "\u001b[0m\u001b[1m/usr/include/c++/5/iomanip:79:5: \u001b[0m\u001b[0;1;30mnote: \u001b[0mcandidate template ignored: could not match 'basic_ostream' against\n",
      "      'basic_istream'\u001b[0m\n",
      "    operator<<(basic_ostream<_CharT, _Traits>& __os, _Resetiosflags __f)\n",
      "\u001b[0;1;32m    ^\n",
      "\u001b[0m\u001b[1m/usr/include/c++/5/iomanip:109:5: \u001b[0m\u001b[0;1;30mnote: \u001b[0mcandidate template ignored: could not match 'basic_ostream' against\n",
      "      'basic_istream'\u001b[0m\n",
      "    operator<<(basic_ostream<_CharT, _Traits>& __os, _Setiosflags __f)\n",
      "\u001b[0;1;32m    ^\n",
      "\u001b[0m\u001b[1m/usr/include/c++/5/iomanip:143:5: \u001b[0m\u001b[0;1;30mnote: \u001b[0mcandidate template ignored: could not match 'basic_ostream' against\n",
      "      'basic_istream'\u001b[0m\n",
      "    operator<<(basic_ostream<_CharT, _Traits>& __os, _Setbase __f)\n",
      "\u001b[0;1;32m    ^\n",
      "\u001b[0m\u001b[1m/usr/include/c++/5/iomanip:178:5: \u001b[0m\u001b[0;1;30mnote: \u001b[0mcandidate template ignored: could not match 'basic_ostream' against\n",
      "      'basic_istream'\u001b[0m\n",
      "    operator<<(basic_ostream<_CharT, _Traits>& __os, _Setfill<_CharT> __f)\n",
      "\u001b[0;1;32m    ^\n",
      "\u001b[0m\u001b[1m/usr/include/c++/5/iomanip:208:5: \u001b[0m\u001b[0;1;30mnote: \u001b[0mcandidate template ignored: could not match 'basic_ostream' against\n",
      "      'basic_istream'\u001b[0m\n",
      "    operator<<(basic_ostream<_CharT, _Traits>& __os, _Setprecision __f)\n",
      "\u001b[0;1;32m    ^\n",
      "\u001b[0m\u001b[1m/usr/include/c++/5/iomanip:238:5: \u001b[0m\u001b[0;1;30mnote: \u001b[0mcandidate template ignored: could not match 'basic_ostream' against\n",
      "      'basic_istream'\u001b[0m\n",
      "    operator<<(basic_ostream<_CharT, _Traits>& __os, _Setw __f)\n",
      "\u001b[0;1;32m    ^\n",
      "\u001b[0m\u001b[1m/usr/include/c++/5/iomanip:311:5: \u001b[0m\u001b[0;1;30mnote: \u001b[0mcandidate template ignored: could not match 'basic_ostream' against\n",
      "      'basic_istream'\u001b[0m\n",
      "    operator<<(basic_ostream<_CharT, _Traits>& __os, _Put_money<_MoneyT> __f)\n",
      "\u001b[0;1;32m    ^\n",
      "\u001b[0m\u001b[1m/usr/include/c++/5/iomanip:363:5: \u001b[0m\u001b[0;1;30mnote: \u001b[0mcandidate template ignored: could not match 'basic_ostream' against\n",
      "      'basic_istream'\u001b[0m\n",
      "    operator<<(basic_ostream<_CharT, _Traits>& __os, _Put_time<_CharT> __f)\n",
      "\u001b[0;1;32m    ^\n",
      "\u001b[0m\u001b[1m/usr/include/c++/5/thread:244:5: \u001b[0m\u001b[0;1;30mnote: \u001b[0mcandidate template ignored: could not match 'basic_ostream' against\n",
      "      'basic_istream'\u001b[0m\n",
      "    operator<<(basic_ostream<_CharT, _Traits>& __out, thread::id __id)\n",
      "\u001b[0;1;32m    ^\n",
      "\u001b[0m\u001b[1m/usr/include/c++/5/bits/regex.h:1483:5: \u001b[0m\u001b[0;1;30mnote: \u001b[0mcandidate template ignored: could not match 'basic_ostream' against\n",
      "      'basic_istream'\u001b[0m\n",
      "    operator<<(basic_ostream<_Ch_type, _Ch_traits>& __os,\n",
      "\u001b[0;1;32m    ^\n",
      "\u001b[0m\u001b[1m/usr/include/c++/5/bits/valarray_after.h:410:5: \u001b[0m\u001b[0;1;30mnote: \u001b[0mcandidate template ignored: could not match '_Expr' against 'basic_istream'\u001b[0m\n",
      "    _DEFINE_EXPR_BINARY_OPERATOR(<<, __shift_left)\n",
      "\u001b[0;1;32m    ^\n",
      "\u001b[0m\u001b[1m/usr/include/c++/5/bits/valarray_after.h:341:5: \u001b[0m\u001b[0;1;30mnote: \u001b[0mexpanded from macro '_DEFINE_EXPR_BINARY_OPERATOR'\u001b[0m\n",
      "    operator _Op(const _Expr<_Dom1, typename _Dom1::value_type>& __v,   \\\n",
      "\u001b[0;1;32m    ^\n",
      "\u001b[0m\u001b[1m/usr/include/c++/5/bits/valarray_after.h:410:5: \u001b[0m\u001b[0;1;30mnote: \u001b[0mcandidate template ignored: could not match '_Expr' against 'basic_istream'\u001b[0m\n",
      "\u001b[1m/usr/include/c++/5/bits/valarray_after.h:354:5: \u001b[0m\u001b[0;1;30mnote: \u001b[0mexpanded from macro '_DEFINE_EXPR_BINARY_OPERATOR'\u001b[0m\n",
      "    operator _Op(const _Expr<_Dom, typename _Dom::value_type>& __v,     \\\n",
      "\u001b[0;1;32m    ^\n",
      "\u001b[0m\u001b[1m/usr/include/c++/5/bits/valarray_after.h:410:5: \u001b[0m\u001b[0;1;30mnote: \u001b[0mcandidate template ignored: could not match '_Expr<type-parameter-0-0, typename\n",
      "      type-parameter-0-0::value_type>' against 'char const[12]'\u001b[0m\n",
      "\u001b[1m/usr/include/c++/5/bits/valarray_after.h:367:5: \u001b[0m\u001b[0;1;30mnote: \u001b[0mexpanded from macro '_DEFINE_EXPR_BINARY_OPERATOR'\u001b[0m\n",
      "    operator _Op(const typename _Dom::value_type& __t,                  \\\n",
      "\u001b[0;1;32m    ^\n",
      "\u001b[0m\u001b[1m/usr/include/c++/5/bits/valarray_after.h:410:5: \u001b[0m\u001b[0;1;30mnote: \u001b[0mcandidate template ignored: could not match '_Expr' against 'basic_istream'\u001b[0m\n",
      "\u001b[1m/usr/include/c++/5/bits/valarray_after.h:380:5: \u001b[0m\u001b[0;1;30mnote: \u001b[0mexpanded from macro '_DEFINE_EXPR_BINARY_OPERATOR'\u001b[0m\n",
      "    operator _Op(const _Expr<_Dom,typename _Dom::value_type>& __e,      \\\n",
      "\u001b[0;1;32m    ^\n",
      "\u001b[0m\u001b[1m/usr/include/c++/5/bits/valarray_after.h:410:5: \u001b[0m\u001b[0;1;30mnote: \u001b[0mcandidate template ignored: could not match '_Expr<type-parameter-0-0, typename\n",
      "      type-parameter-0-0::value_type>' against 'char const[12]'\u001b[0m\n",
      "\u001b[1m/usr/include/c++/5/bits/valarray_after.h:393:5: \u001b[0m\u001b[0;1;30mnote: \u001b[0mexpanded from macro '_DEFINE_EXPR_BINARY_OPERATOR'\u001b[0m\n",
      "    operator _Op(const valarray<typename _Dom::value_type>& __v,        \\\n",
      "\u001b[0;1;32m    ^\n",
      "\u001b[0m\u001b[1m/usr/include/c++/5/valarray:1175:1: \u001b[0m\u001b[0;1;30mnote: \u001b[0mcandidate template ignored: could not match 'valarray' against 'basic_istream'\u001b[0m\n",
      "_DEFINE_BINARY_OPERATOR(<<, __shift_left)\n",
      "\u001b[0;1;32m^\n",
      "\u001b[0m\u001b[1m/usr/include/c++/5/valarray:1139:5: \u001b[0m\u001b[0;1;30mnote: \u001b[0mexpanded from macro '_DEFINE_BINARY_OPERATOR'\u001b[0m\n",
      "    operator _Op(const valarray<_Tp>& __v, const valarray<_Tp>& __w)    \\\n",
      "\u001b[0;1;32m    ^\n",
      "\u001b[0m\u001b[1m/usr/include/c++/5/valarray:1175:1: \u001b[0m\u001b[0;1;30mnote: \u001b[0mcandidate template ignored: could not match 'valarray' against 'basic_istream'\u001b[0m\n",
      "\u001b[1m/usr/include/c++/5/valarray:1150:5: \u001b[0m\u001b[0;1;30mnote: \u001b[0mexpanded from macro '_DEFINE_BINARY_OPERATOR'\u001b[0m\n",
      "    operator _Op(const valarray<_Tp>& __v, const _Tp& __t)              \\\n",
      "\u001b[0;1;32m    ^\n",
      "\u001b[0m\u001b[1m/usr/include/c++/5/valarray:1175:1: \u001b[0m\u001b[0;1;30mnote: \u001b[0mcandidate template ignored: could not match 'valarray<type-parameter-0-0>'\n",
      "      against 'char const[12]'\u001b[0m\n",
      "\u001b[1m/usr/include/c++/5/valarray:1160:5: \u001b[0m\u001b[0;1;30mnote: \u001b[0mexpanded from macro '_DEFINE_BINARY_OPERATOR'\u001b[0m\n",
      "    operator _Op(const _Tp& __t, const valarray<_Tp>& __v)              \\\n",
      "\u001b[0;1;32m    ^\n",
      "\u001b[0m"
     ]
    }
   ],
   "source": [
    "cin << \" Success!\\n \" ;"
   ]
  }
 ],
 "metadata": {
  "kernelspec": {
   "display_name": "ROOT C++",
   "language": "c++",
   "name": "root"
  },
  "language_info": {
   "codemirror_mode": "text/x-c++src",
   "file_extension": ".C",
   "mimetype": " text/x-c++src",
   "name": "c++"
  }
 },
 "nbformat": 4,
 "nbformat_minor": 2
}
