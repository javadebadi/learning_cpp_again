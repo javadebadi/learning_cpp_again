{
 "cells": [
  {
   "cell_type": "markdown",
   "metadata": {},
   "source": [
    "# Computation\n",
    "\n",
    "## Computation\n",
    "Inputs to a part of a program are often called arguments and outputs from a part of a program are often called results.<br>\n",
    "By computation we simply mean the act of producing some outputs based on some inputs. <br>"
   ]
  },
  {
   "cell_type": "markdown",
   "metadata": {},
   "source": [
    "## Objectives and Tools\n",
    "Our job as programmers is to express computations<br>\n",
    "• <strong>Correctly</strong> (because if it is wrong, then it is not useful at all)<br>\n",
    "• <strong>Simply</strong> (If a program is correct and efficient, but not simple, then it will be hard to update the program for new needs)<br>\n",
    "• <strong>Efficiently</strong> ()<br>\n",
    "Our main tool for organizing a program is to break up a big computation into many little ones with two tools:\n",
    "<ul>\n",
    "    <li><strong>Abstraction</strong>: Hide details that we don’t need to use a facility behind a convenient and general interface.</li>\n",
    "    <li><strong>Divide and Conquer</strong>: take a large problem and divide it into sev-\n",
    "eral little ones</li>\n",
    "</ul>\n",
    "\n",
    "If you have the ambition to build something reasonably permanent, you pay attention to matters of code <strong>structure</strong> and organization along the way, rather than having to come back and learn them after failures."
   ]
  },
  {
   "cell_type": "markdown",
   "metadata": {},
   "source": [
    "## Expressions\n",
    "An expression computes a value from a number of operands.<br>\n",
    "left-value (lvalue): name of an object<br>\n",
    "right-value (rvalue): value of the object with this name<br>\n",
    "\n",
    "### Constant expressions\n",
    "a symbolic constant is a named object to which you can’t give a new value after it has been initialized.<br>\n",
    "Non-obvious literals in code (outside definitions of symbolic constants) are derisively referred to as magic constants. Avoid using magic constants. Use meaningful constants instead of magic constants.\n",
    "\n",
    "<strong>```constexpr```</strong>: A constexpr symbolic constant must be given a value that is known at compile time.\n",
    "```\n",
    "    constexpr int max = 100;\n",
    "    void use(int n)\n",
    "    {\n",
    "        constexpr int c1 = max+7;     // OK: c1 is 107\n",
    "        constexpr int c2 = n+7;       // error: we don’t know the value of c2\n",
    "        return 0;\n",
    "    }\n",
    "```\n",
    "<strong>```const```</strong>: A const symbolic constant can be given a value that is not known at compile time, but it is constant after initialization in run time.\n",
    "### Operations\n",
    "<img src=\"./images/computation_operations.png\" style=\"width:500px;\"><br>\n",
    "```++a``` is preferable to ```a = a +1 ``` because it more directly indicates that we wanted to increment a by one, and it is not a mistake in our code. So it increases the code readablity. \n",
    "\n",
    "### Conversion\n",
    "type(value) : convert value to type as if you were initializing a variable of type type with the value value.<br>\n",
    "type{value} : same as  type(value) but it prevents narrowing<br>"
   ]
  },
  {
   "cell_type": "code",
   "execution_count": 3,
   "metadata": {},
   "outputs": [
    {
     "name": "stdout",
     "output_type": "stream",
     "text": [
      "5\n"
     ]
    }
   ],
   "source": [
    "cout<<int(5.2)<<endl;"
   ]
  },
  {
   "cell_type": "code",
   "execution_count": 1,
   "metadata": {},
   "outputs": [
    {
     "name": "stderr",
     "output_type": "stream",
     "text": [
      "\u001b[1minput_line_27:2:12: \u001b[0m\u001b[0;1;31merror: \u001b[0m\u001b[1mtype 'double' cannot be narrowed to 'int' in initializer list\n",
      "      [-Wc++11-narrowing]\u001b[0m\n",
      " cout<<int{5.2}<<endl;\n",
      "\u001b[0;1;32m           ^~~\n",
      "\u001b[0m\u001b[1minput_line_27:2:12: \u001b[0m\u001b[0;1;30mnote: \u001b[0minsert an explicit cast to silence this issue\u001b[0m\n",
      " cout<<int{5.2}<<endl;\n",
      "\u001b[0;1;32m           ^~~\n",
      "\u001b[0m\u001b[0;32m           static_cast<int>( )\n",
      "\u001b[0m\u001b[1minput_line_27:2:12: \u001b[0m\u001b[0;1;35mwarning: \u001b[0m\u001b[1mimplicit conversion from 'double' to 'int' changes value from 5.2 to 5\n",
      "      [-Wliteral-conversion]\u001b[0m\n",
      " cout<<int{5.2}<<endl;\n",
      "\u001b[0;1;32m          ~^~~\n",
      "\u001b[0m"
     ]
    }
   ],
   "source": [
    "cout<<int{5.2}<<endl;"
   ]
  },
  {
   "cell_type": "markdown",
   "metadata": {},
   "source": [
    "## Statements\n",
    "There are two kind of expressions:\n",
    "<ul>\n",
    "    <li>expression statements</li>\n",
    "    <li>declarations</li>\n",
    "</ul>\n",
    "\n",
    "An expression statement is simply an expression followed by a semicolon.<br><i>example</i>: ```a=2+b;``` <br>\n",
    "Why semicolon is important? Try to interprete ```a = b++b``` which does not have semicolon.<br>\n",
    "<strong>empty statement</strong>: a statement doing nothing. <i>example</i>: ```a*b;1+2;```\n",
    "\n",
    "### Selection\n",
    "\n",
    "#### if-statements\n",
    "```\n",
    "if ( expression ) statement\n",
    "else if ( expression ) statement\n",
    "else statement\n",
    "```\n",
    "#### switch-statements\n",
    "```\n",
    "switch (expression){\n",
    "    case I:\n",
    "        statement\n",
    "        break;\n",
    "    case II:\n",
    "        statement\n",
    "        break;\n",
    "    ...\n",
    "    default:\n",
    "        statement;\n",
    "        break;\n",
    "}\n",
    "```\n",
    "Here are some technical details about switch -statements:\n",
    "1. The value on which we switch must be of an integer, char , or enumeration type. In particular, you cannot switch on a string .\n",
    "2. The values in the case labels must be constant expressions. In particular, you cannot use a variable in a case label.\n",
    "3. You cannot use the same value for two case labels.\n",
    "4. You can use several case labels for a single case.\n",
    "5. Don’t forget to end each case with a break . Unfortunately, the compiler probably won’t warn you if you forget.\n",
    "<br>\n",
    "\n",
    "Often you want the same action for a set of values in a switch. You can label a single action by a set of case labels. For example:\n",
    "\n",
    "```\n",
    "switch (a) {\n",
    "case '0': case '2': case '4': case '6': case '8':\n",
    "cout << \"is even\\n\";\n",
    "break;\n",
    "```\n",
    "The most common error with switch -statements is to forget to terminate a case\n",
    "with a break .\n",
    "\n",
    "### Iteration\n",
    "\n",
    "#### loop\n",
    "loop variable or control variable\n",
    "body of the loop\n",
    "an initializer and terminator for loop\n",
    "\n",
    "#### Block\n",
    "A sequence of statements delimited by curly braces { and } is called a block or a compound statement.\n",
    "\n",
    "Some novices prefer while -statements and some novices prefer for -statements. However, using a for -statement yields more easily understood and more maintainable code whenever a loop can be defined as a for -statement with a simple initializer, condition, and increment operation.\n",
    "\n",
    "Never modify the loop variable inside the body of a for statement."
   ]
  },
  {
   "cell_type": "markdown",
   "metadata": {},
   "source": [
    "## Functions\n",
    "A function is a named sequence of statements. A function can return a result (also called a return value).\n",
    "\n",
    "```type identifier ( parameter-list ) function-body```\n",
    "\n",
    "The list of arguments required by thefunction is called a parameter list and its elements are called parameters (or formal arguments).\n",
    "\n",
    "We define a function when we want a separate computation with a name because doing so\n",
    "\n",
    "• Makes the computation logically separate\n",
    "\n",
    "• Makes the program text clearer (by naming the computation)\n",
    "\n",
    "• Makes it possible to use the function in more than one place in our program\n",
    "\n",
    "• Eases testing\n",
    "\n",
    "<strong>Programs are usually easier to write and to understand if each function performs\n",
    "a single logical action.</strong>\n",
    "\n",
    "### Function declaration \n",
    "```\n",
    "int square(int);// declaration of square\n",
    "\n",
    "```\n",
    "\n",
    "Note the terminating semicolons. A semicolon is used in a function declaration instead of the body used in the corresponding function definition:\n",
    "\n",
    "```\n",
    "int square(int x)\n",
    "{\n",
    "return x*x;\n",
    "}\n",
    "```\n",
    "\n",
    "Function declaration is important in large codes, where we want to have functions in our sight but hide its definition from our sight to concentrate on writing necessary parts of a code."
   ]
  },
  {
   "cell_type": "markdown",
   "metadata": {},
   "source": [
    "## Vector\n",
    "\n",
    "vector is one of C++ Standard Library containers.<br>\n",
    "A vector knows it elements and its size.<br>\n",
    "Two ways to initialize a vector: give size, give elements<br>\n",
    "The range for a vector v is [ 0:v.size() )<br>\n",
    "Accessing outside of the v range causes run-time error.<br>\n",
    "A vector can be grown using ```push_back()``` member function call.<br>\n",
    "member-function-call:\n",
    "```object_name.member-function-name ( argument-list )```"
   ]
  },
  {
   "cell_type": "code",
   "execution_count": 1,
   "metadata": {},
   "outputs": [
    {
     "name": "stdout",
     "output_type": "stream",
     "text": [
      "vector size: 3\n",
      "v[2]=        1\n",
      "v[3]=        1818386804\n"
     ]
    }
   ],
   "source": [
    "// vector declaration and initialization\n",
    "vector<int> v={1,2,3};\n",
    "cout<<\"vector size: \"<<v.size()<<endl;\n",
    "cout<<\"v[2]=        \"<<v[0]<<endl;\n",
    "cout<<\"v[3]=        \"<<v[3]<<endl;"
   ]
  },
  {
   "cell_type": "code",
   "execution_count": 1,
   "metadata": {},
   "outputs": [
    {
     "name": "stdout",
     "output_type": "stream",
     "text": [
      "vector size: 2\n",
      "v[0]=        Javad\n",
      "v[1]=        \n"
     ]
    }
   ],
   "source": [
    "// vector assignment\n",
    "vector<string> names(2);\n",
    "cout<<\"vector size: \"<<names.size()<<endl;\n",
    "names[0] = \"Javad\";\n",
    "cout<<\"v[0]=        \"<<names[0]<<endl;\n",
    "cout<<\"v[1]=        \"<<names[1]<<endl;\n",
    "//cout<<\"v[2]=        \"<<names[2]<<endl;"
   ]
  },
  {
   "cell_type": "markdown",
   "metadata": {},
   "source": [
    "### Traversing a vector\n",
    "range- for -loop"
   ]
  },
  {
   "cell_type": "code",
   "execution_count": 5,
   "metadata": {},
   "outputs": [
    {
     "name": "stdout",
     "output_type": "stream",
     "text": [
      "1\n",
      "2.5\n",
      "5.9\n"
     ]
    }
   ],
   "source": [
    "vector<double> v2={1.0,2.5,5.9};\n",
    "for(double d: v2){ //for each double in v2\n",
    "    cout<<d<<endl;\n",
    "}"
   ]
  },
  {
   "cell_type": "markdown",
   "metadata": {},
   "source": [
    "### A numeric example\n",
    "\n",
    "```\n",
    "// read some temperatures into a vector\n",
    "int main()\n",
    "{\n",
    "    vector<double> temps;             // temperatures\n",
    "    for (double temp; cin>>temp; )    // read into temp\n",
    "        temps.push_back(temp);        // put temp into vector\n",
    "    // . . . do something . . .\n",
    "}\n",
    "```\n",
    "\n",
    "Basically, ```cin>>temp``` is ```true``` if a value was read correctly and ```false``` otherwise, so that for -statement will\n",
    "read all the double s we give it and stop when we give it anything else.\n",
    "\n",
    "How do we stop reading string input? In other words, how do we terminate the input loop?\n",
    "```\n",
    "for (string temp; cin>>temp; )    //read\n",
    "words.push_back(temp);            //put into vector\n",
    "```\n",
    "When we read numbers (in §4.6.2), we just gave some input character that wasn’t a number. We can’t do that here because every (ordinary) character can be read into a string . Fortunately, there are characters that are “not ordinary.” As mentioned in §3.5.1, Ctrl+Z terminates an input stream under Windows and Ctrl+D does that under Unix.\n",
    "\n",
    "The ```sort()``` from STL sorts elements in a vector."
   ]
  },
  {
   "cell_type": "code",
   "execution_count": null,
   "metadata": {},
   "outputs": [],
   "source": []
  }
 ],
 "metadata": {
  "kernelspec": {
   "display_name": "ROOT C++",
   "language": "c++",
   "name": "root"
  },
  "language_info": {
   "codemirror_mode": "text/x-c++src",
   "file_extension": ".C",
   "mimetype": " text/x-c++src",
   "name": "c++"
  }
 },
 "nbformat": 4,
 "nbformat_minor": 2
}
