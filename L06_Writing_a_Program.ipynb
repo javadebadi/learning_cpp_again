{
 "cells": [
  {
   "cell_type": "markdown",
   "metadata": {},
   "source": [
    "# Writing a Program"
   ]
  },
  {
   "cell_type": "markdown",
   "metadata": {},
   "source": [
    "## A Problem \n",
    "Writing a programs starts with a problem. Undestanding of that problem is a key to good programming.\n",
    "\n",
    "In this chapter the problme is building a simple calculator."
   ]
  },
  {
   "cell_type": "markdown",
   "metadata": {},
   "source": [
    "## Thinking about the problem\n",
    "So how do we start? Basically, think a bit about the problem and how to solve it.\n",
    "First think about what the program should do and how you’d like to interact with it. Later, you can think about how the program could be written to do that. \n",
    "\n",
    "### Stages of developement\n",
    "<strong>Analysis</strong>: Figure out what should be done and write a description of your (current) understanding of that. Such a description is called a <strong>set of requirements</strong> or a <strong>specification</strong>.\n",
    "\n",
    "<strong>Design</strong>: deciding about structure of the code, the parts, interaction of the parts, consider tools (libraries) that can help the structure.\n",
    "\n",
    "<strong>Implementation</strong>: write the code, debug and test.\n",
    "\n",
    "### Strategy\n",
    "\n",
    " “What can this program do for me?” and “How would I like to interact with this program?”\n",
    " \n",
    " Make the porblem clear. It is not clear for real problems.\n",
    " \n",
    " Don't be ambitious at first. First try to solve simple problem and hopefully simple implementation. Then you can go to general problems.\n",
    " \n",
    " Does the problem seem manageable, given the time, skills, and tools\n",
    "available? \n",
    "\n",
    "Try breaking the program into manageable parts. Even the smallest profor solving a real problem is large enough to be subdivided.\n",
    "\n",
    "Do you know of any tools, libraries, etc. that might help? The answer is almost always yes. \n",
    "Remember: There is little value in reinventing the wheel when you are building software for real use.\n",
    "\n",
    "Look for parts of a solution that can be separately described (and potentially used in several places in a program or even in other programs).\n",
    "\n",
    "Build a small, limited version of the program that solves a key part of the\n",
    "problem. When we start, we rarely know the problem well. We often think\n",
    "we do, but we don’t. \n",
    "\n",
    "To bring out problems in our understanding, ideas, and tools.\n",
    "To see if details of the problem statement need changing to make the\n",
    "problem manageable.\n",
    "\n",
    "\n",
    "Sometimes, such a limited initial version aimed at experimentation is called a <strong>prototype</strong>.Repeat until we find a version that we are happy with. Do not proceed with a mess; messes just grow with time  "
   ]
  },
  {
   "cell_type": "markdown",
   "metadata": {},
   "source": [
    "## Back to the calculator\n",
    "\n",
    "A </strong>token</strong> is a sequence of characters that represents something we consider a unit, such as a number or an operator.\n",
    "• Floating-point-literals: as defi ned by C++, e.g., 3.14 , 0.274e2 , and 42\n",
    "• Operators: e.g., + , – , * , / , %\n",
    "• Parentheses: ( , )\n",
    "<strong>tokenize</strong>: the process of reading input and divide it into tokens.\n",
    "\n",
    "So how do we express the idea of a (kind,value) pair in code? We define a type ```Token``` to represent tokens.\n",
    "\n",
    "``` c++\n",
    "class Token {\n",
    "// a very simple user-defined type\n",
    "public:\n",
    "char kind;\n",
    "double value;\n",
    "};\n",
    "```\n",
    "\n",
    "We use the member access notation, object_name . member_name, to access a member.\n",
    "```c++\n",
    "Token t1 {'+'};         // initialize t1 so that t1.kind = ‘+’\n",
    "Token t2 {'8',11.5};    // initialize t2 so that t2.kind = ‘8’ and t2.value = 11.5\n",
    "```\n",
    "This approach did not go well (look at the book).\n",
    "\n",
    "However, we must always make sure that such relatively thoughtless and unplanned “coding” doesn’t steal too much time. We should do very little programming before we have done at least a bit of analysis (understanding the problem) and design (deciding on an overall structure of a solution).\n",
    "\n",
    "\n",
    "What terminates an input expression? A newline, of course! (Always be\n",
    "suspicious of “of course”: “of course” is not a reason.)\n",
    "\n",
    "\n",
    "It is most important to avoid “feature creep” early in a project. Instead, always first build a simple version, implementing the essential features only. Once you have something running, you can get more ambitious. It is far easier to build a program in stages than all at once. Saying yes to question 6 would have had yet another bad effect: it would have made it hard to resist the temptation to add further “neat features” along the line. How about adding the usual mathematical functions? How about adding loops? Once we start adding “neat features” it is\n",
    "hard to stop.\n",
    "\n",
    "What would an experienced programmer do? When we are faced with a\n",
    "tricky technical question, there often is a standard answer. We know that people\n",
    "have been writing calculator programs for at least as long as there have been com-\n",
    "puters taking symbolic input from a keyboard. That is at least for 50 years. There\n",
    "has to be a standard answer! In such a situation, the experienced programmer\n",
    "consults colleagues and/or the literature. It would be silly to barge on, hoping to\n",
    "beat 50 years of experience in a morning.\n",
    "\n"
   ]
  },
  {
   "cell_type": "code",
   "execution_count": null,
   "metadata": {},
   "outputs": [],
   "source": []
  }
 ],
 "metadata": {
  "kernelspec": {
   "display_name": "ROOT C++",
   "language": "c++",
   "name": "root"
  },
  "language_info": {
   "codemirror_mode": "text/x-c++src",
   "file_extension": ".C",
   "mimetype": " text/x-c++src",
   "name": "c++"
  }
 },
 "nbformat": 4,
 "nbformat_minor": 2
}
