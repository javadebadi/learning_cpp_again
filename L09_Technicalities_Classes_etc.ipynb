{
 "cells": [
  {
   "cell_type": "markdown",
   "metadata": {},
   "source": [
    "# Technicalities: Classes, etc\n",
    "\n",
    "## User-defined types\n",
    "Types that are not built-in are called **user-defined types (UDTs)**.   \n",
    "C++ provides two kinds of user-defined types: classes and enumerations.\n",
    "\n",
    "## Classes and members\n",
    "## Interface and implementation\n",
    "\n",
    "```cpp\n",
    "class ClassName{\n",
    "public:\n",
    "    //\n",
    "private:\n",
    "    //\n",
    "}\n",
    "```\n",
    "\n",
    "## Evolving a class\n",
    "\n",
    "### Strut and functions\n",
    "### Member functions\n",
    "This kind of thinking leads to a demand for an initialization function that\n",
    "can’t be forgotten and for operations that are less likely to be overlooked. The\n",
    "basic tool for that is member functions, that is, functions declared as members of the\n",
    "class within the class body.\n",
    "\n",
    "```cpp\n",
    "    Date today(2000,10,5);    // C++98 initialization style\n",
    "    Date today{2000,10,5};    // C++11 initialization style\n",
    "\n",
    "```\n",
    "\n",
    "### Keep details private\n",
    "The value of an object is often called its **state**, so the\n",
    "idea of a valid value is often referred to as a **valid state of an object**.\n",
    "\n",
    "A rule for what constitutes a valid value is called an **invariant**.\n",
    "\n",
    "### Defining member functions\n",
    "A member can refer to a function or data member of its class independently of where in the class that other member is declared.\n",
    "\n",
    "When a memeber function is defiend inside class, it will be **inline**. Thus for very short and useful member functions, it can increase performance. However, for large functions (more that 4 lines of codes), being inline is not an advantage, and it is better to define member functions outside of class definition.\n",
    "\n",
    "### Refering to current object\n",
    "\n",
    "How a member function knows to return value of which object/\n",
    "\n",
    "### Reporting errors\n",
    "\n",
    "\n",
    "## Enumerations\n",
    "\n",
    "An `enum` (an **enumeration**) is a very simple user-defined type, specifying its set of values (its **enumerators**) as symbolic constants.\n"
   ]
  },
  {
   "cell_type": "code",
   "execution_count": 13,
   "metadata": {},
   "outputs": [
    {
     "name": "stderr",
     "output_type": "stream",
     "text": [
      "\u001b[1minput_line_44:2:13: \u001b[0m\u001b[0;1;31merror: \u001b[0m\u001b[1mredefinition of 'Month'\u001b[0m\n",
      " enum class Month{\n",
      "\u001b[0;1;32m            ^\n",
      "\u001b[0m\u001b[1minput_line_28:2:13: \u001b[0m\u001b[0;1;30mnote: \u001b[0mprevious definition is here\u001b[0m\n",
      " enum class Month{\n",
      "\u001b[0;1;32m            ^\n",
      "\u001b[0m"
     ]
    }
   ],
   "source": [
    "enum class Month{\n",
    "  Jan=1, Feb, Mar, Apr, May, Jun, Jul, Aug, Sep, Oct, Nov, Dec\n",
    "};"
   ]
  },
  {
   "cell_type": "code",
   "execution_count": 14,
   "metadata": {},
   "outputs": [
    {
     "name": "stderr",
     "output_type": "stream",
     "text": [
      "\u001b[1minput_line_45:2:9: \u001b[0m\u001b[0;1;31merror: \u001b[0m\u001b[1mno member named 'jan' in 'Month'\u001b[0m\n",
      " Month::jan\n",
      "\u001b[0;1;32m ~~~~~~~^\n",
      "\u001b[0m"
     ]
    }
   ],
   "source": [
    "Month::jan"
   ]
  },
  {
   "cell_type": "code",
   "execution_count": 15,
   "metadata": {},
   "outputs": [
    {
     "name": "stderr",
     "output_type": "stream",
     "text": [
      "\u001b[1minput_line_46:2:19: \u001b[0m\u001b[0;1;31merror: \u001b[0m\u001b[1mno member named 'feb' in 'Month'\u001b[0m\n",
      " Month m = Month::feb\n",
      "\u001b[0;1;32m           ~~~~~~~^\n",
      "\u001b[0m\u001b[1minput_line_46:2:8: \u001b[0m\u001b[0;1;31merror: \u001b[0m\u001b[1mredefinition of 'm' with a different type: 'Month' vs 'int'\u001b[0m\n",
      " Month m = Month::feb\n",
      "\u001b[0;1;32m       ^\n",
      "\u001b[0m\u001b[1minput_line_35:3:1: \u001b[0m\u001b[0;1;30mnote: \u001b[0mprevious definition is here\u001b[0m\n",
      "m = 3;\n",
      "\u001b[0;1;32m^\n",
      "\u001b[0m"
     ]
    }
   ],
   "source": [
    "Month m = Month::feb"
   ]
  },
  {
   "cell_type": "markdown",
   "metadata": {},
   "source": [
    "`Month` is a separate type from its “underlying type” `int` ."
   ]
  },
  {
   "cell_type": "code",
   "execution_count": 16,
   "metadata": {},
   "outputs": [],
   "source": [
    "// look at error\n",
    "m = 3;"
   ]
  },
  {
   "cell_type": "code",
   "execution_count": 17,
   "metadata": {},
   "outputs": [
    {
     "name": "stderr",
     "output_type": "stream",
     "text": [
      "\u001b[1minput_line_48:2:13: \u001b[0m\u001b[0;1;31merror: \u001b[0m\u001b[1mno member named 'mar' in 'Month'\u001b[0m\n",
      " m = Month::mar\n",
      "\u001b[0;1;32m     ~~~~~~~^\n",
      "\u001b[0m"
     ]
    }
   ],
   "source": [
    "m = Month::mar"
   ]
  },
  {
   "cell_type": "markdown",
   "metadata": {},
   "source": [
    "What do we use enumerations for? Basically, an enumeration is useful whenever we need a set of related named integer constants. That happens all the time when we try to represent sets of alternatives ( up , down ; yes , no , maybe ; on , off ;n , ne , e , se , s , sw , w , nw ) or distinctive values ( red , blue , green , yellow , maroon , crimson , black ).\n",
    "\n",
    "### Plain enums\n",
    "Plain `enum` is not safe. So try using `enum class` which is a feature of `C++11`"
   ]
  },
  {
   "cell_type": "markdown",
   "metadata": {},
   "source": [
    "## Operator overloading\n",
    "\n",
    "Note that the most interesting operators to overload aren’t `+` , `–` , `*` , and `/`as people often assume, but `=` , `==` , `!=`, `<` , `[ ]` (subscript), and `( )` (call)."
   ]
  },
  {
   "cell_type": "code",
   "execution_count": 18,
   "metadata": {},
   "outputs": [
    {
     "name": "stderr",
     "output_type": "stream",
     "text": [
      "\u001b[1minput_line_49:2:28: \u001b[0m\u001b[0;1;31merror: \u001b[0m\u001b[1mfunction definition is not allowed here\u001b[0m\n",
      " Month operator++(Month& m){\n",
      "\u001b[0;1;32m                           ^\n",
      "\u001b[0m"
     ]
    }
   ],
   "source": [
    "Month operator++(Month& m){\n",
    "    m = (m==Dec) ? Jan : Month(int(m)+1);\n",
    "    return m;\n",
    "};"
   ]
  },
  {
   "cell_type": "markdown",
   "metadata": {},
   "source": [
    "## Class interfaces\n",
    "\n",
    "- Keep interfaces complete.\n",
    "- Keep interfaces minimal.\n",
    "- Provide constructors.\n",
    "- Support copying (or prohibit it) (see §14.2.4).\n",
    "- Use types to provide good argument checking.\n",
    "- Identify nonmodifying member functions (see §9.7.4).\n",
    "- Free all resources in the destructor (see §17.5).\n",
    "\n",
    "Use `::` after the name of a class, enumeration, or namespace and `.` (dot) after an object name.\n",
    "\n",
    "### Argument types\n",
    "\n",
    "For defining the constant symbols inside class we use `static const`. For a class member, we use `static` to make sure that there is just one copy of the value in the program, rather than one per object of the class. We can use `constexpr` instead of `const`.\n",
    "\n",
    "### Copying\n",
    "The defulat copy of a type is copying all its members to new object. That's what compiler will do by default.\n",
    "\n",
    "```cpp\n",
    "Date holiday {1978, Month::jul, 4};\n",
    "Date d2 = holiday;\n",
    "Date d3 = Date{1978, Month::jul , 4};\n",
    "```\n",
    "\n",
    "\n",
    "What if we don’t want the default meaning of copying? We can either define our own or delete the copy constructor and copy assignment.\n",
    "\n",
    "### Constructor\n",
    "\n",
    "For many types, it is better to define a constructor that gives meaning to the creation of an object without an explicit initializer. Such a constructor takes no arguments and is called a **default constructor**.\n",
    "\n",
    "An initializer for a class member specified as part of the member declaration is called an **in-class initializer**.\n",
    "\n",
    "We use parentheses, `( )` , when specifying the element counts for a vector , rather than the `{ }` initializer-list notation, to avoid confusion in the case of a `vector<int>`\n",
    "\n",
    "```cpp\n",
    "vector<Date> dates(10,Date(2010,Month::Jan,10));\n",
    "```\n",
    "\n",
    "### const memeber function\n",
    "classifying operations on a class as modifying and nonmodifying.  \n",
    "\n",
    "We use `const` right after the argument list in a member function declaration to indicate that the member function can be called for a `const` object.\n",
    "\n",
    "```cpp\n",
    "class Date {\n",
    "public:\n",
    "    // . . .\n",
    "    int day() const;     // const member: can’t modify the object\n",
    "    Month month() const;\n",
    "    int year() const;\n",
    "    \n",
    "    void add_day(int n);   // non-const member: can modify the object\n",
    "    void add_month(int n);\n",
    "    void add_year(int n);\n",
    "private:\n",
    "    int y;\n",
    "    Month m;\n",
    "    int d;\n",
    "};\n",
    "\n",
    "\n",
    "Date d {2000, Month::jan, 20};\n",
    "const Date cd {2001, Month::feb, 21};\n",
    "cout << d.day() << \" — \" << cd.day() << '\\n';     // OK\n",
    "d.add_day(1);     // OK\n",
    "cd.add_day(1);    // error: cd is a const\n",
    "\n",
    "```\n",
    "\n",
    "### Members and helpers function\n",
    "\n",
    "When we design our interfaces to be minimal (though complete), we have to leave out lots of operations that are merely useful. A function that can be simply, elegantly, and efficiently implemented as a **freestanding function** (that is, as a non-member function) should be implemented **outside** the class. That way, a bug in that function cannot directly corrupt the data in a class object.   \n",
    "Often, we use\n",
    "namespaces to identify a group of helper functions:\n",
    "```cpp\n",
    "namespace Chrono {\n",
    "enum class Month { /* ... */ };\n",
    "class Date { /* . . . */ };\n",
    "bool is_date(int y, Month m, int d);    // true for valid date\n",
    "Date next_Sunday(const Date& d) { /* . . . */ }\n",
    "Date next_weekday(const Date& d) { /* . . . */ }\n",
    "bool leapyear(int y) { /* . . . */ }\n",
    "bool operator==(const Date& a, const Date& b) { /* . . . */ }\n",
    "// . . .\n",
    "}\n",
    "```"
   ]
  }
 ],
 "metadata": {
  "kernelspec": {
   "display_name": "ROOT C++",
   "language": "c++",
   "name": "root"
  },
  "language_info": {
   "codemirror_mode": "text/x-c++src",
   "file_extension": ".C",
   "mimetype": " text/x-c++src",
   "name": "c++"
  }
 },
 "nbformat": 4,
 "nbformat_minor": 2
}
